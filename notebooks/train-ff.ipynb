{
 "cells": [
  {
   "cell_type": "code",
   "execution_count": 1,
   "id": "bb7712ca-fac2-4e86-b762-13162d227dfa",
   "metadata": {},
   "outputs": [
    {
     "name": "stderr",
     "output_type": "stream",
     "text": [
      "2024-06-09 09:42:00.029772: I tensorflow/core/platform/cpu_feature_guard.cc:210] This TensorFlow binary is optimized to use available CPU instructions in performance-critical operations.\n",
      "To enable the following instructions: AVX2 FMA, in other operations, rebuild TensorFlow with the appropriate compiler flags.\n"
     ]
    }
   ],
   "source": [
    "import pandas as pd\n",
    "import numpy as np\n",
    "import csv\n",
    "import tensorflow as tf\n",
    "from matplotlib import pyplot as plt\n",
    "from collections import Counter\n",
    "from tqdm.auto import tqdm"
   ]
  },
  {
   "cell_type": "code",
   "execution_count": 2,
   "id": "2a34e6f1-4b3c-4f47-8cef-adb57a068158",
   "metadata": {},
   "outputs": [
    {
     "data": {
      "text/html": [
       "<div>\n",
       "<style scoped>\n",
       "    .dataframe tbody tr th:only-of-type {\n",
       "        vertical-align: middle;\n",
       "    }\n",
       "\n",
       "    .dataframe tbody tr th {\n",
       "        vertical-align: top;\n",
       "    }\n",
       "\n",
       "    .dataframe thead th {\n",
       "        text-align: right;\n",
       "    }\n",
       "</style>\n",
       "<table border=\"1\" class=\"dataframe\">\n",
       "  <thead>\n",
       "    <tr style=\"text-align: right;\">\n",
       "      <th></th>\n",
       "      <th>0</th>\n",
       "      <th>1</th>\n",
       "      <th>2</th>\n",
       "      <th>3</th>\n",
       "      <th>4</th>\n",
       "      <th>5</th>\n",
       "      <th>6</th>\n",
       "      <th>7</th>\n",
       "      <th>8</th>\n",
       "      <th>9</th>\n",
       "      <th>...</th>\n",
       "      <th>19</th>\n",
       "      <th>20</th>\n",
       "      <th>21</th>\n",
       "      <th>22</th>\n",
       "      <th>23</th>\n",
       "      <th>24</th>\n",
       "      <th>25</th>\n",
       "      <th>26</th>\n",
       "      <th>27</th>\n",
       "      <th>28</th>\n",
       "    </tr>\n",
       "  </thead>\n",
       "  <tbody>\n",
       "    <tr>\n",
       "      <th>0</th>\n",
       "      <td>0.1</td>\n",
       "      <td>e-399</td>\n",
       "      <td>NaN</td>\n",
       "      <td>w-219</td>\n",
       "      <td>NaN</td>\n",
       "      <td>NaN</td>\n",
       "      <td>w-77</td>\n",
       "      <td>w-71</td>\n",
       "      <td>w-72</td>\n",
       "      <td>w-109</td>\n",
       "      <td>...</td>\n",
       "      <td>w-196</td>\n",
       "      <td>w-185</td>\n",
       "      <td>NaN</td>\n",
       "      <td>NaN</td>\n",
       "      <td>NaN</td>\n",
       "      <td>w-215</td>\n",
       "      <td>1</td>\n",
       "      <td>0</td>\n",
       "      <td>0</td>\n",
       "      <td>0</td>\n",
       "    </tr>\n",
       "    <tr>\n",
       "      <th>1</th>\n",
       "      <td>0.3</td>\n",
       "      <td>e-399</td>\n",
       "      <td>NaN</td>\n",
       "      <td>w-219</td>\n",
       "      <td>NaN</td>\n",
       "      <td>NaN</td>\n",
       "      <td>w-77</td>\n",
       "      <td>w-71</td>\n",
       "      <td>w-72</td>\n",
       "      <td>w-109</td>\n",
       "      <td>...</td>\n",
       "      <td>w-196</td>\n",
       "      <td>w-185</td>\n",
       "      <td>NaN</td>\n",
       "      <td>NaN</td>\n",
       "      <td>NaN</td>\n",
       "      <td>w-215</td>\n",
       "      <td>1</td>\n",
       "      <td>0</td>\n",
       "      <td>0</td>\n",
       "      <td>0</td>\n",
       "    </tr>\n",
       "    <tr>\n",
       "      <th>2</th>\n",
       "      <td>0.6</td>\n",
       "      <td>e-397</td>\n",
       "      <td>NaN</td>\n",
       "      <td>w-215</td>\n",
       "      <td>NaN</td>\n",
       "      <td>NaN</td>\n",
       "      <td>w-77</td>\n",
       "      <td>w-73</td>\n",
       "      <td>w-72</td>\n",
       "      <td>w-109</td>\n",
       "      <td>...</td>\n",
       "      <td>w-197</td>\n",
       "      <td>w-185</td>\n",
       "      <td>NaN</td>\n",
       "      <td>NaN</td>\n",
       "      <td>NaN</td>\n",
       "      <td>w-213</td>\n",
       "      <td>1</td>\n",
       "      <td>0</td>\n",
       "      <td>0</td>\n",
       "      <td>0</td>\n",
       "    </tr>\n",
       "    <tr>\n",
       "      <th>3</th>\n",
       "      <td>0.8</td>\n",
       "      <td>e-396</td>\n",
       "      <td>NaN</td>\n",
       "      <td>w-214</td>\n",
       "      <td>NaN</td>\n",
       "      <td>NaN</td>\n",
       "      <td>w-79</td>\n",
       "      <td>w-72</td>\n",
       "      <td>w-72</td>\n",
       "      <td>w-109</td>\n",
       "      <td>...</td>\n",
       "      <td>w-196</td>\n",
       "      <td>w-185</td>\n",
       "      <td>NaN</td>\n",
       "      <td>NaN</td>\n",
       "      <td>NaN</td>\n",
       "      <td>w-213</td>\n",
       "      <td>1</td>\n",
       "      <td>0</td>\n",
       "      <td>0</td>\n",
       "      <td>0</td>\n",
       "    </tr>\n",
       "    <tr>\n",
       "      <th>4</th>\n",
       "      <td>1.0</td>\n",
       "      <td>e-394</td>\n",
       "      <td>NaN</td>\n",
       "      <td>w-211</td>\n",
       "      <td>NaN</td>\n",
       "      <td>NaN</td>\n",
       "      <td>w-81</td>\n",
       "      <td>w-70</td>\n",
       "      <td>w-72</td>\n",
       "      <td>w-109</td>\n",
       "      <td>...</td>\n",
       "      <td>w-196</td>\n",
       "      <td>w-185</td>\n",
       "      <td>NaN</td>\n",
       "      <td>NaN</td>\n",
       "      <td>NaN</td>\n",
       "      <td>w-211</td>\n",
       "      <td>1</td>\n",
       "      <td>0</td>\n",
       "      <td>0</td>\n",
       "      <td>0</td>\n",
       "    </tr>\n",
       "    <tr>\n",
       "      <th>...</th>\n",
       "      <td>...</td>\n",
       "      <td>...</td>\n",
       "      <td>...</td>\n",
       "      <td>...</td>\n",
       "      <td>...</td>\n",
       "      <td>...</td>\n",
       "      <td>...</td>\n",
       "      <td>...</td>\n",
       "      <td>...</td>\n",
       "      <td>...</td>\n",
       "      <td>...</td>\n",
       "      <td>...</td>\n",
       "      <td>...</td>\n",
       "      <td>...</td>\n",
       "      <td>...</td>\n",
       "      <td>...</td>\n",
       "      <td>...</td>\n",
       "      <td>...</td>\n",
       "      <td>...</td>\n",
       "      <td>...</td>\n",
       "      <td>...</td>\n",
       "    </tr>\n",
       "    <tr>\n",
       "      <th>12163</th>\n",
       "      <td>-4.3</td>\n",
       "      <td>w-185</td>\n",
       "      <td>d-322</td>\n",
       "      <td>w-127</td>\n",
       "      <td>w-130</td>\n",
       "      <td>w-187</td>\n",
       "      <td>NaN</td>\n",
       "      <td>NaN</td>\n",
       "      <td>NaN</td>\n",
       "      <td>e-153</td>\n",
       "      <td>...</td>\n",
       "      <td>w-28</td>\n",
       "      <td>w-30</td>\n",
       "      <td>w-35</td>\n",
       "      <td>w-44</td>\n",
       "      <td>w-43</td>\n",
       "      <td>w-73</td>\n",
       "      <td>0</td>\n",
       "      <td>1</td>\n",
       "      <td>1</td>\n",
       "      <td>0</td>\n",
       "    </tr>\n",
       "    <tr>\n",
       "      <th>12164</th>\n",
       "      <td>-4.4</td>\n",
       "      <td>w-187</td>\n",
       "      <td>d-327</td>\n",
       "      <td>w-133</td>\n",
       "      <td>w-134</td>\n",
       "      <td>w-189</td>\n",
       "      <td>NaN</td>\n",
       "      <td>NaN</td>\n",
       "      <td>NaN</td>\n",
       "      <td>e-150</td>\n",
       "      <td>...</td>\n",
       "      <td>w-28</td>\n",
       "      <td>w-30</td>\n",
       "      <td>w-32</td>\n",
       "      <td>w-41</td>\n",
       "      <td>w-47</td>\n",
       "      <td>w-64</td>\n",
       "      <td>0</td>\n",
       "      <td>1</td>\n",
       "      <td>1</td>\n",
       "      <td>0</td>\n",
       "    </tr>\n",
       "    <tr>\n",
       "      <th>12165</th>\n",
       "      <td>-4.5</td>\n",
       "      <td>w-136</td>\n",
       "      <td>d-331</td>\n",
       "      <td>w-144</td>\n",
       "      <td>w-137</td>\n",
       "      <td>w-191</td>\n",
       "      <td>NaN</td>\n",
       "      <td>NaN</td>\n",
       "      <td>NaN</td>\n",
       "      <td>e-148</td>\n",
       "      <td>...</td>\n",
       "      <td>w-31</td>\n",
       "      <td>w-29</td>\n",
       "      <td>w-33</td>\n",
       "      <td>w-40</td>\n",
       "      <td>w-51</td>\n",
       "      <td>w-56</td>\n",
       "      <td>0</td>\n",
       "      <td>1</td>\n",
       "      <td>1</td>\n",
       "      <td>0</td>\n",
       "    </tr>\n",
       "    <tr>\n",
       "      <th>12166</th>\n",
       "      <td>-4.6</td>\n",
       "      <td>w-96</td>\n",
       "      <td>d-336</td>\n",
       "      <td>w-152</td>\n",
       "      <td>w-137</td>\n",
       "      <td>w-193</td>\n",
       "      <td>NaN</td>\n",
       "      <td>NaN</td>\n",
       "      <td>NaN</td>\n",
       "      <td>e-145</td>\n",
       "      <td>...</td>\n",
       "      <td>w-35</td>\n",
       "      <td>w-32</td>\n",
       "      <td>w-31</td>\n",
       "      <td>w-37</td>\n",
       "      <td>w-53</td>\n",
       "      <td>w-59</td>\n",
       "      <td>0</td>\n",
       "      <td>1</td>\n",
       "      <td>1</td>\n",
       "      <td>0</td>\n",
       "    </tr>\n",
       "    <tr>\n",
       "      <th>12167</th>\n",
       "      <td>-4.7</td>\n",
       "      <td>w-94</td>\n",
       "      <td>d-340</td>\n",
       "      <td>NaN</td>\n",
       "      <td>w-139</td>\n",
       "      <td>w-195</td>\n",
       "      <td>NaN</td>\n",
       "      <td>NaN</td>\n",
       "      <td>NaN</td>\n",
       "      <td>e-143</td>\n",
       "      <td>...</td>\n",
       "      <td>w-35</td>\n",
       "      <td>w-33</td>\n",
       "      <td>w-31</td>\n",
       "      <td>w-38</td>\n",
       "      <td>w-50</td>\n",
       "      <td>w-59</td>\n",
       "      <td>0</td>\n",
       "      <td>1</td>\n",
       "      <td>1</td>\n",
       "      <td>0</td>\n",
       "    </tr>\n",
       "  </tbody>\n",
       "</table>\n",
       "<p>12168 rows × 29 columns</p>\n",
       "</div>"
      ],
      "text/plain": [
       "        0      1      2      3      4      5     6     7     8      9   ...  \\\n",
       "0      0.1  e-399    NaN  w-219    NaN    NaN  w-77  w-71  w-72  w-109  ...   \n",
       "1      0.3  e-399    NaN  w-219    NaN    NaN  w-77  w-71  w-72  w-109  ...   \n",
       "2      0.6  e-397    NaN  w-215    NaN    NaN  w-77  w-73  w-72  w-109  ...   \n",
       "3      0.8  e-396    NaN  w-214    NaN    NaN  w-79  w-72  w-72  w-109  ...   \n",
       "4      1.0  e-394    NaN  w-211    NaN    NaN  w-81  w-70  w-72  w-109  ...   \n",
       "...    ...    ...    ...    ...    ...    ...   ...   ...   ...    ...  ...   \n",
       "12163 -4.3  w-185  d-322  w-127  w-130  w-187   NaN   NaN   NaN  e-153  ...   \n",
       "12164 -4.4  w-187  d-327  w-133  w-134  w-189   NaN   NaN   NaN  e-150  ...   \n",
       "12165 -4.5  w-136  d-331  w-144  w-137  w-191   NaN   NaN   NaN  e-148  ...   \n",
       "12166 -4.6   w-96  d-336  w-152  w-137  w-193   NaN   NaN   NaN  e-145  ...   \n",
       "12167 -4.7   w-94  d-340    NaN  w-139  w-195   NaN   NaN   NaN  e-143  ...   \n",
       "\n",
       "          19     20    21    22    23     24 25 26 27 28  \n",
       "0      w-196  w-185   NaN   NaN   NaN  w-215  1  0  0  0  \n",
       "1      w-196  w-185   NaN   NaN   NaN  w-215  1  0  0  0  \n",
       "2      w-197  w-185   NaN   NaN   NaN  w-213  1  0  0  0  \n",
       "3      w-196  w-185   NaN   NaN   NaN  w-213  1  0  0  0  \n",
       "4      w-196  w-185   NaN   NaN   NaN  w-211  1  0  0  0  \n",
       "...      ...    ...   ...   ...   ...    ... .. .. .. ..  \n",
       "12163   w-28   w-30  w-35  w-44  w-43   w-73  0  1  1  0  \n",
       "12164   w-28   w-30  w-32  w-41  w-47   w-64  0  1  1  0  \n",
       "12165   w-31   w-29  w-33  w-40  w-51   w-56  0  1  1  0  \n",
       "12166   w-35   w-32  w-31  w-37  w-53   w-59  0  1  1  0  \n",
       "12167   w-35   w-33  w-31  w-38  w-50   w-59  0  1  1  0  \n",
       "\n",
       "[12168 rows x 29 columns]"
      ]
     },
     "metadata": {},
     "output_type": "display_data"
    }
   ],
   "source": [
    "data = pd.read_csv(\"train.csv\", header=None)\n",
    "display(data)"
   ]
  },
  {
   "cell_type": "code",
   "execution_count": 3,
   "id": "6cd71c54-97e9-42e2-b757-00bc87b82bc7",
   "metadata": {},
   "outputs": [
    {
     "data": {
      "image/png": "[encoded data removed]",
      "text/plain": [
       "<Figure size 640x480 with 1 Axes>"
      ]
     },
     "metadata": {},
     "output_type": "display_data"
    }
   ],
   "source": [
    "plt.hist(data[0], bins=100)\n",
    "plt.show()"
   ]
  },
  {
   "cell_type": "code",
   "execution_count": 4,
   "id": "91abfc3b-424c-4433-be77-edc8c3648898",
   "metadata": {},
   "outputs": [
    {
     "data": {
      "text/plain": [
       "Counter({(1, 0, 0, 0): 1826,\n",
       "         (1, 0, 1, 0): 869,\n",
       "         (0, 0, 1, 0): 2871,\n",
       "         (0, 0, 0, 0): 2585,\n",
       "         (0, 1, 0, 0): 353,\n",
       "         (0, 0, 0, 1): 2689,\n",
       "         (1, 0, 0, 1): 651,\n",
       "         (0, 1, 1, 0): 196,\n",
       "         (0, 1, 0, 1): 127,\n",
       "         (0, 0, 1, 1): 1})"
      ]
     },
     "execution_count": 4,
     "metadata": {},
     "output_type": "execute_result"
    }
   ],
   "source": [
    "Counter(tuple(row[1]) for row in data[[25,26,27,28]].iterrows())"
   ]
  },
  {
   "cell_type": "code",
   "execution_count": 5,
   "id": "2f9e60f7-89c1-4a18-876c-fcdd2dbfb7ab",
   "metadata": {},
   "outputs": [
    {
     "data": {
      "application/vnd.jupyter.widget-view+json": {
       "model_id": "aec350bb8c4341b0922b5990ed36b632",
       "version_major": 2,
       "version_minor": 0
      },
      "text/plain": [
       "0it [00:00, ?it/s]"
      ]
     },
     "metadata": {},
     "output_type": "display_data"
    },
    {
     "data": {
      "text/plain": [
       "((12168, 49), (12168, 4))"
      ]
     },
     "execution_count": 5,
     "metadata": {},
     "output_type": "execute_result"
    }
   ],
   "source": [
    "def parse_sensor(s, letters, max_val=501.0):\n",
    "    if not s:\n",
    "        return 1.0\n",
    "    if s[0] not in letters:\n",
    "        return 1.0\n",
    "    return float(s[2:])/max_val\n",
    "    \n",
    "\n",
    "X = []\n",
    "Y = []\n",
    "with open(\"train.csv\") as f:\n",
    "    for row in tqdm(csv.reader(f)):\n",
    "        velocity = np.array([float(row[0])])\n",
    "        sensors = row[1:25]\n",
    "        keys = np.fromiter((float(k) for k in row[25:]), dtype=float)\n",
    "        walls = np.fromiter((parse_sensor(s, (\"w\", \"e\")) for s in sensors), dtype=float)\n",
    "        diamants = np.fromiter((parse_sensor(s, (\"d\")) for s in sensors), dtype=float)\n",
    "        X.append(np.concatenate((velocity, walls, diamants)))\n",
    "        Y.append(keys)\n",
    "\n",
    "X = np.array(X)\n",
    "Y = np.array(Y)\n",
    "X.shape, Y.shape"
   ]
  },
  {
   "cell_type": "code",
   "execution_count": 6,
   "id": "5bae7924-8970-424b-bae2-a23cf39b3c3c",
   "metadata": {},
   "outputs": [],
   "source": [
    "def create_ff_model():\n",
    "    input = tf.keras.Input(shape=(49,), name=\"input\")\n",
    "    hidden = tf.keras.layers.Dense(64, activation=\"tanh\", name=\"hidden1\")(input)\n",
    "    output = tf.keras.layers.Dense(4, activation='sigmoid', name='output')(hidden)\n",
    "\n",
    "    model = tf.keras.Model(name=\"ff_model\", inputs=input, outputs=output)\n",
    "    model.compile(optimizer='adam', loss=\"binary_crossentropy\")\n",
    "    return model\n",
    "\n",
    "ff_model = create_ff_model()"
   ]
  },
  {
   "cell_type": "code",
   "execution_count": 7,
   "id": "c02547e4-fe45-41c6-acc5-e78b2d9c7861",
   "metadata": {},
   "outputs": [
    {
     "data": {
      "text/html": [
       "<pre style=\"white-space:pre;overflow-x:auto;line-height:normal;font-family:Menlo,'DejaVu Sans Mono',consolas,'Courier New',monospace\"><span style=\"font-weight: bold\">Model: \"ff_model\"</span>\n",
       "</pre>\n"
      ],
      "text/plain": [
       "\u001b[1mModel: \"ff_model\"\u001b[0m\n"
      ]
     },
     "metadata": {},
     "output_type": "display_data"
    },
    {
     "data": {
      "text/html": [
       "<pre style=\"white-space:pre;overflow-x:auto;line-height:normal;font-family:Menlo,'DejaVu Sans Mono',consolas,'Courier New',monospace\">┏━━━━━━━━━━━━━━━━━━━━━━━━━━━━━━━━━┳━━━━━━━━━━━━━━━━━━━━━━━━┳━━━━━━━━━━━━━━━┓\n",
       "┃<span style=\"font-weight: bold\"> Layer (type)                    </span>┃<span style=\"font-weight: bold\"> Output Shape           </span>┃<span style=\"font-weight: bold\">       Param # </span>┃\n",
       "┡━━━━━━━━━━━━━━━━━━━━━━━━━━━━━━━━━╇━━━━━━━━━━━━━━━━━━━━━━━━╇━━━━━━━━━━━━━━━┩\n",
       "│ input (<span style=\"color: #0087ff; text-decoration-color: #0087ff\">InputLayer</span>)              │ (<span style=\"color: #00d7ff; text-decoration-color: #00d7ff\">None</span>, <span style=\"color: #00af00; text-decoration-color: #00af00\">49</span>)             │             <span style=\"color: #00af00; text-decoration-color: #00af00\">0</span> │\n",
       "├─────────────────────────────────┼────────────────────────┼───────────────┤\n",
       "│ hidden1 (<span style=\"color: #0087ff; text-decoration-color: #0087ff\">Dense</span>)                 │ (<span style=\"color: #00d7ff; text-decoration-color: #00d7ff\">None</span>, <span style=\"color: #00af00; text-decoration-color: #00af00\">64</span>)             │         <span style=\"color: #00af00; text-decoration-color: #00af00\">3,200</span> │\n",
       "├─────────────────────────────────┼────────────────────────┼───────────────┤\n",
       "│ output (<span style=\"color: #0087ff; text-decoration-color: #0087ff\">Dense</span>)                  │ (<span style=\"color: #00d7ff; text-decoration-color: #00d7ff\">None</span>, <span style=\"color: #00af00; text-decoration-color: #00af00\">4</span>)              │           <span style=\"color: #00af00; text-decoration-color: #00af00\">260</span> │\n",
       "└─────────────────────────────────┴────────────────────────┴───────────────┘\n",
       "</pre>\n"
      ],
      "text/plain": [
       "┏━━━━━━━━━━━━━━━━━━━━━━━━━━━━━━━━━┳━━━━━━━━━━━━━━━━━━━━━━━━┳━━━━━━━━━━━━━━━┓\n",
       "┃\u001b[1m \u001b[0m\u001b[1mLayer (type)                   \u001b[0m\u001b[1m \u001b[0m┃\u001b[1m \u001b[0m\u001b[1mOutput Shape          \u001b[0m\u001b[1m \u001b[0m┃\u001b[1m \u001b[0m\u001b[1m      Param #\u001b[0m\u001b[1m \u001b[0m┃\n",
       "┡━━━━━━━━━━━━━━━━━━━━━━━━━━━━━━━━━╇━━━━━━━━━━━━━━━━━━━━━━━━╇━━━━━━━━━━━━━━━┩\n",
       "│ input (\u001b[38;5;33mInputLayer\u001b[0m)              │ (\u001b[38;5;45mNone\u001b[0m, \u001b[38;5;34m49\u001b[0m)             │             \u001b[38;5;34m0\u001b[0m │\n",
       "├─────────────────────────────────┼────────────────────────┼───────────────┤\n",
       "│ hidden1 (\u001b[38;5;33mDense\u001b[0m)                 │ (\u001b[38;5;45mNone\u001b[0m, \u001b[38;5;34m64\u001b[0m)             │         \u001b[38;5;34m3,200\u001b[0m │\n",
       "├─────────────────────────────────┼────────────────────────┼───────────────┤\n",
       "│ output (\u001b[38;5;33mDense\u001b[0m)                  │ (\u001b[38;5;45mNone\u001b[0m, \u001b[38;5;34m4\u001b[0m)              │           \u001b[38;5;34m260\u001b[0m │\n",
       "└─────────────────────────────────┴────────────────────────┴───────────────┘\n"
      ]
     },
     "metadata": {},
     "output_type": "display_data"
    },
    {
     "data": {
      "text/html": [
       "<pre style=\"white-space:pre;overflow-x:auto;line-height:normal;font-family:Menlo,'DejaVu Sans Mono',consolas,'Courier New',monospace\"><span style=\"font-weight: bold\"> Total params: </span><span style=\"color: #00af00; text-decoration-color: #00af00\">3,460</span> (13.52 KB)\n",
       "</pre>\n"
      ],
      "text/plain": [
       "\u001b[1m Total params: \u001b[0m\u001b[38;5;34m3,460\u001b[0m (13.52 KB)\n"
      ]
     },
     "metadata": {},
     "output_type": "display_data"
    },
    {
     "data": {
      "text/html": [
       "<pre style=\"white-space:pre;overflow-x:auto;line-height:normal;font-family:Menlo,'DejaVu Sans Mono',consolas,'Courier New',monospace\"><span style=\"font-weight: bold\"> Trainable params: </span><span style=\"color: #00af00; text-decoration-color: #00af00\">3,460</span> (13.52 KB)\n",
       "</pre>\n"
      ],
      "text/plain": [
       "\u001b[1m Trainable params: \u001b[0m\u001b[38;5;34m3,460\u001b[0m (13.52 KB)\n"
      ]
     },
     "metadata": {},
     "output_type": "display_data"
    },
    {
     "data": {
      "text/html": [
       "<pre style=\"white-space:pre;overflow-x:auto;line-height:normal;font-family:Menlo,'DejaVu Sans Mono',consolas,'Courier New',monospace\"><span style=\"font-weight: bold\"> Non-trainable params: </span><span style=\"color: #00af00; text-decoration-color: #00af00\">0</span> (0.00 B)\n",
       "</pre>\n"
      ],
      "text/plain": [
       "\u001b[1m Non-trainable params: \u001b[0m\u001b[38;5;34m0\u001b[0m (0.00 B)\n"
      ]
     },
     "metadata": {},
     "output_type": "display_data"
    }
   ],
   "source": [
    "ff_model.summary()"
   ]
  },
  {
   "cell_type": "code",
   "execution_count": 8,
   "id": "1db0e7d3-c083-4fe9-bc5a-d87be139f02b",
   "metadata": {
    "scrolled": true
   },
   "outputs": [
    {
     "name": "stdout",
     "output_type": "stream",
     "text": [
      "Epoch 1/100\n",
      "\u001b[1m305/305\u001b[0m \u001b[32m━━━━━━━━━━━━━━━━━━━━\u001b[0m\u001b[37m\u001b[0m \u001b[1m1s\u001b[0m 1ms/step - loss: 0.5012 - val_loss: 0.4391\n",
      "Epoch 2/100\n",
      "\u001b[1m305/305\u001b[0m \u001b[32m━━━━━━━━━━━━━━━━━━━━\u001b[0m\u001b[37m\u001b[0m \u001b[1m0s\u001b[0m 827us/step - loss: 0.4077 - val_loss: 0.4253\n",
      "Epoch 3/100\n",
      "\u001b[1m305/305\u001b[0m \u001b[32m━━━━━━━━━━━━━━━━━━━━\u001b[0m\u001b[37m\u001b[0m \u001b[1m0s\u001b[0m 812us/step - loss: 0.3971 - val_loss: 0.4236\n",
      "Epoch 4/100\n",
      "\u001b[1m305/305\u001b[0m \u001b[32m━━━━━━━━━━━━━━━━━━━━\u001b[0m\u001b[37m\u001b[0m \u001b[1m0s\u001b[0m 839us/step - loss: 0.3875 - val_loss: 0.4163\n",
      "Epoch 5/100\n",
      "\u001b[1m305/305\u001b[0m \u001b[32m━━━━━━━━━━━━━━━━━━━━\u001b[0m\u001b[37m\u001b[0m \u001b[1m0s\u001b[0m 894us/step - loss: 0.3836 - val_loss: 0.4124\n",
      "Epoch 6/100\n",
      "\u001b[1m305/305\u001b[0m \u001b[32m━━━━━━━━━━━━━━━━━━━━\u001b[0m\u001b[37m\u001b[0m \u001b[1m0s\u001b[0m 799us/step - loss: 0.3767 - val_loss: 0.4150\n",
      "Epoch 7/100\n",
      "\u001b[1m305/305\u001b[0m \u001b[32m━━━━━━━━━━━━━━━━━━━━\u001b[0m\u001b[37m\u001b[0m \u001b[1m0s\u001b[0m 809us/step - loss: 0.3790 - val_loss: 0.4077\n",
      "Epoch 8/100\n",
      "\u001b[1m305/305\u001b[0m \u001b[32m━━━━━━━━━━━━━━━━━━━━\u001b[0m\u001b[37m\u001b[0m \u001b[1m0s\u001b[0m 800us/step - loss: 0.3709 - val_loss: 0.4058\n",
      "Epoch 9/100\n",
      "\u001b[1m305/305\u001b[0m \u001b[32m━━━━━━━━━━━━━━━━━━━━\u001b[0m\u001b[37m\u001b[0m \u001b[1m0s\u001b[0m 794us/step - loss: 0.3673 - val_loss: 0.4116\n",
      "Epoch 10/100\n",
      "\u001b[1m305/305\u001b[0m \u001b[32m━━━━━━━━━━━━━━━━━━━━\u001b[0m\u001b[37m\u001b[0m \u001b[1m0s\u001b[0m 858us/step - loss: 0.3664 - val_loss: 0.4077\n",
      "Epoch 11/100\n",
      "\u001b[1m305/305\u001b[0m \u001b[32m━━━━━━━━━━━━━━━━━━━━\u001b[0m\u001b[37m\u001b[0m \u001b[1m0s\u001b[0m 807us/step - loss: 0.3668 - val_loss: 0.4007\n",
      "Epoch 12/100\n",
      "\u001b[1m305/305\u001b[0m \u001b[32m━━━━━━━━━━━━━━━━━━━━\u001b[0m\u001b[37m\u001b[0m \u001b[1m0s\u001b[0m 789us/step - loss: 0.3615 - val_loss: 0.4081\n",
      "Epoch 13/100\n",
      "\u001b[1m305/305\u001b[0m \u001b[32m━━━━━━━━━━━━━━━━━━━━\u001b[0m\u001b[37m\u001b[0m \u001b[1m0s\u001b[0m 830us/step - loss: 0.3609 - val_loss: 0.4066\n",
      "Epoch 14/100\n",
      "\u001b[1m305/305\u001b[0m \u001b[32m━━━━━━━━━━━━━━━━━━━━\u001b[0m\u001b[37m\u001b[0m \u001b[1m0s\u001b[0m 801us/step - loss: 0.3560 - val_loss: 0.4104\n",
      "Epoch 15/100\n",
      "\u001b[1m305/305\u001b[0m \u001b[32m━━━━━━━━━━━━━━━━━━━━\u001b[0m\u001b[37m\u001b[0m \u001b[1m0s\u001b[0m 779us/step - loss: 0.3560 - val_loss: 0.3958\n",
      "Epoch 16/100\n",
      "\u001b[1m305/305\u001b[0m \u001b[32m━━━━━━━━━━━━━━━━━━━━\u001b[0m\u001b[37m\u001b[0m \u001b[1m0s\u001b[0m 773us/step - loss: 0.3542 - val_loss: 0.4174\n",
      "Epoch 17/100\n",
      "\u001b[1m305/305\u001b[0m \u001b[32m━━━━━━━━━━━━━━━━━━━━\u001b[0m\u001b[37m\u001b[0m \u001b[1m0s\u001b[0m 786us/step - loss: 0.3528 - val_loss: 0.4036\n",
      "Epoch 18/100\n",
      "\u001b[1m305/305\u001b[0m \u001b[32m━━━━━━━━━━━━━━━━━━━━\u001b[0m\u001b[37m\u001b[0m \u001b[1m0s\u001b[0m 771us/step - loss: 0.3512 - val_loss: 0.3955\n",
      "Epoch 19/100\n",
      "\u001b[1m305/305\u001b[0m \u001b[32m━━━━━━━━━━━━━━━━━━━━\u001b[0m\u001b[37m\u001b[0m \u001b[1m0s\u001b[0m 791us/step - loss: 0.3481 - val_loss: 0.4103\n",
      "Epoch 20/100\n",
      "\u001b[1m305/305\u001b[0m \u001b[32m━━━━━━━━━━━━━━━━━━━━\u001b[0m\u001b[37m\u001b[0m \u001b[1m0s\u001b[0m 768us/step - loss: 0.3448 - val_loss: 0.3971\n",
      "Epoch 21/100\n",
      "\u001b[1m305/305\u001b[0m \u001b[32m━━━━━━━━━━━━━━━━━━━━\u001b[0m\u001b[37m\u001b[0m \u001b[1m0s\u001b[0m 792us/step - loss: 0.3430 - val_loss: 0.3991\n",
      "Epoch 22/100\n",
      "\u001b[1m305/305\u001b[0m \u001b[32m━━━━━━━━━━━━━━━━━━━━\u001b[0m\u001b[37m\u001b[0m \u001b[1m0s\u001b[0m 779us/step - loss: 0.3410 - val_loss: 0.4141\n",
      "Epoch 23/100\n",
      "\u001b[1m305/305\u001b[0m \u001b[32m━━━━━━━━━━━━━━━━━━━━\u001b[0m\u001b[37m\u001b[0m \u001b[1m0s\u001b[0m 784us/step - loss: 0.3401 - val_loss: 0.4106\n",
      "Epoch 24/100\n",
      "\u001b[1m305/305\u001b[0m \u001b[32m━━━━━━━━━━━━━━━━━━━━\u001b[0m\u001b[37m\u001b[0m \u001b[1m0s\u001b[0m 774us/step - loss: 0.3379 - val_loss: 0.3979\n",
      "Epoch 25/100\n",
      "\u001b[1m305/305\u001b[0m \u001b[32m━━━━━━━━━━━━━━━━━━━━\u001b[0m\u001b[37m\u001b[0m \u001b[1m0s\u001b[0m 780us/step - loss: 0.3391 - val_loss: 0.4033\n",
      "Epoch 26/100\n",
      "\u001b[1m305/305\u001b[0m \u001b[32m━━━━━━━━━━━━━━━━━━━━\u001b[0m\u001b[37m\u001b[0m \u001b[1m0s\u001b[0m 773us/step - loss: 0.3365 - val_loss: 0.3968\n",
      "Epoch 27/100\n",
      "\u001b[1m305/305\u001b[0m \u001b[32m━━━━━━━━━━━━━━━━━━━━\u001b[0m\u001b[37m\u001b[0m \u001b[1m0s\u001b[0m 775us/step - loss: 0.3300 - val_loss: 0.4109\n",
      "Epoch 28/100\n",
      "\u001b[1m305/305\u001b[0m \u001b[32m━━━━━━━━━━━━━━━━━━━━\u001b[0m\u001b[37m\u001b[0m \u001b[1m0s\u001b[0m 771us/step - loss: 0.3278 - val_loss: 0.4081\n",
      "Epoch 29/100\n",
      "\u001b[1m305/305\u001b[0m \u001b[32m━━━━━━━━━━━━━━━━━━━━\u001b[0m\u001b[37m\u001b[0m \u001b[1m0s\u001b[0m 785us/step - loss: 0.3261 - val_loss: 0.4001\n",
      "Epoch 30/100\n",
      "\u001b[1m305/305\u001b[0m \u001b[32m━━━━━━━━━━━━━━━━━━━━\u001b[0m\u001b[37m\u001b[0m \u001b[1m0s\u001b[0m 771us/step - loss: 0.3256 - val_loss: 0.4153\n",
      "Epoch 31/100\n",
      "\u001b[1m305/305\u001b[0m \u001b[32m━━━━━━━━━━━━━━━━━━━━\u001b[0m\u001b[37m\u001b[0m \u001b[1m0s\u001b[0m 778us/step - loss: 0.3229 - val_loss: 0.3971\n",
      "Epoch 32/100\n",
      "\u001b[1m305/305\u001b[0m \u001b[32m━━━━━━━━━━━━━━━━━━━━\u001b[0m\u001b[37m\u001b[0m \u001b[1m0s\u001b[0m 765us/step - loss: 0.3234 - val_loss: 0.4165\n",
      "Epoch 33/100\n",
      "\u001b[1m305/305\u001b[0m \u001b[32m━━━━━━━━━━━━━━━━━━━━\u001b[0m\u001b[37m\u001b[0m \u001b[1m0s\u001b[0m 774us/step - loss: 0.3267 - val_loss: 0.4062\n",
      "Epoch 34/100\n",
      "\u001b[1m305/305\u001b[0m \u001b[32m━━━━━━━━━━━━━━━━━━━━\u001b[0m\u001b[37m\u001b[0m \u001b[1m0s\u001b[0m 770us/step - loss: 0.3226 - val_loss: 0.4205\n",
      "Epoch 35/100\n",
      "\u001b[1m305/305\u001b[0m \u001b[32m━━━━━━━━━━━━━━━━━━━━\u001b[0m\u001b[37m\u001b[0m \u001b[1m0s\u001b[0m 789us/step - loss: 0.3148 - val_loss: 0.4111\n",
      "Epoch 36/100\n",
      "\u001b[1m305/305\u001b[0m \u001b[32m━━━━━━━━━━━━━━━━━━━━\u001b[0m\u001b[37m\u001b[0m \u001b[1m0s\u001b[0m 775us/step - loss: 0.3151 - val_loss: 0.4087\n",
      "Epoch 37/100\n",
      "\u001b[1m305/305\u001b[0m \u001b[32m━━━━━━━━━━━━━━━━━━━━\u001b[0m\u001b[37m\u001b[0m \u001b[1m0s\u001b[0m 780us/step - loss: 0.3200 - val_loss: 0.4099\n",
      "Epoch 38/100\n",
      "\u001b[1m305/305\u001b[0m \u001b[32m━━━━━━━━━━━━━━━━━━━━\u001b[0m\u001b[37m\u001b[0m \u001b[1m0s\u001b[0m 775us/step - loss: 0.3126 - val_loss: 0.4199\n",
      "Epoch 39/100\n",
      "\u001b[1m305/305\u001b[0m \u001b[32m━━━━━━━━━━━━━━━━━━━━\u001b[0m\u001b[37m\u001b[0m \u001b[1m0s\u001b[0m 773us/step - loss: 0.3154 - val_loss: 0.4083\n",
      "Epoch 40/100\n",
      "\u001b[1m305/305\u001b[0m \u001b[32m━━━━━━━━━━━━━━━━━━━━\u001b[0m\u001b[37m\u001b[0m \u001b[1m0s\u001b[0m 782us/step - loss: 0.3125 - val_loss: 0.4037\n",
      "Epoch 41/100\n",
      "\u001b[1m305/305\u001b[0m \u001b[32m━━━━━━━━━━━━━━━━━━━━\u001b[0m\u001b[37m\u001b[0m \u001b[1m0s\u001b[0m 779us/step - loss: 0.3097 - val_loss: 0.4043\n",
      "Epoch 42/100\n",
      "\u001b[1m305/305\u001b[0m \u001b[32m━━━━━━━━━━━━━━━━━━━━\u001b[0m\u001b[37m\u001b[0m \u001b[1m0s\u001b[0m 768us/step - loss: 0.3052 - val_loss: 0.4074\n",
      "Epoch 43/100\n",
      "\u001b[1m305/305\u001b[0m \u001b[32m━━━━━━━━━━━━━━━━━━━━\u001b[0m\u001b[37m\u001b[0m \u001b[1m0s\u001b[0m 772us/step - loss: 0.3039 - val_loss: 0.4214\n",
      "Epoch 44/100\n",
      "\u001b[1m305/305\u001b[0m \u001b[32m━━━━━━━━━━━━━━━━━━━━\u001b[0m\u001b[37m\u001b[0m \u001b[1m0s\u001b[0m 778us/step - loss: 0.3050 - val_loss: 0.4092\n",
      "Epoch 45/100\n",
      "\u001b[1m305/305\u001b[0m \u001b[32m━━━━━━━━━━━━━━━━━━━━\u001b[0m\u001b[37m\u001b[0m \u001b[1m0s\u001b[0m 774us/step - loss: 0.3068 - val_loss: 0.4104\n",
      "Epoch 46/100\n",
      "\u001b[1m305/305\u001b[0m \u001b[32m━━━━━━━━━━━━━━━━━━━━\u001b[0m\u001b[37m\u001b[0m \u001b[1m0s\u001b[0m 769us/step - loss: 0.3057 - val_loss: 0.4212\n",
      "Epoch 47/100\n",
      "\u001b[1m305/305\u001b[0m \u001b[32m━━━━━━━━━━━━━━━━━━━━\u001b[0m\u001b[37m\u001b[0m \u001b[1m0s\u001b[0m 772us/step - loss: 0.2987 - val_loss: 0.4172\n",
      "Epoch 48/100\n",
      "\u001b[1m305/305\u001b[0m \u001b[32m━━━━━━━━━━━━━━━━━━━━\u001b[0m\u001b[37m\u001b[0m \u001b[1m0s\u001b[0m 769us/step - loss: 0.2991 - val_loss: 0.4152\n",
      "Epoch 49/100\n",
      "\u001b[1m305/305\u001b[0m \u001b[32m━━━━━━━━━━━━━━━━━━━━\u001b[0m\u001b[37m\u001b[0m \u001b[1m0s\u001b[0m 779us/step - loss: 0.2982 - val_loss: 0.4163\n",
      "Epoch 50/100\n",
      "\u001b[1m305/305\u001b[0m \u001b[32m━━━━━━━━━━━━━━━━━━━━\u001b[0m\u001b[37m\u001b[0m \u001b[1m0s\u001b[0m 774us/step - loss: 0.2954 - val_loss: 0.4306\n",
      "Epoch 51/100\n",
      "\u001b[1m305/305\u001b[0m \u001b[32m━━━━━━━━━━━━━━━━━━━━\u001b[0m\u001b[37m\u001b[0m \u001b[1m0s\u001b[0m 774us/step - loss: 0.2958 - val_loss: 0.4082\n",
      "Epoch 52/100\n",
      "\u001b[1m305/305\u001b[0m \u001b[32m━━━━━━━━━━━━━━━━━━━━\u001b[0m\u001b[37m\u001b[0m \u001b[1m0s\u001b[0m 781us/step - loss: 0.2926 - val_loss: 0.4220\n",
      "Epoch 53/100\n",
      "\u001b[1m305/305\u001b[0m \u001b[32m━━━━━━━━━━━━━━━━━━━━\u001b[0m\u001b[37m\u001b[0m \u001b[1m0s\u001b[0m 779us/step - loss: 0.2942 - val_loss: 0.4195\n",
      "Epoch 54/100\n",
      "\u001b[1m305/305\u001b[0m \u001b[32m━━━━━━━━━━━━━━━━━━━━\u001b[0m\u001b[37m\u001b[0m \u001b[1m0s\u001b[0m 782us/step - loss: 0.2898 - val_loss: 0.4365\n",
      "Epoch 55/100\n",
      "\u001b[1m305/305\u001b[0m \u001b[32m━━━━━━━━━━━━━━━━━━━━\u001b[0m\u001b[37m\u001b[0m \u001b[1m0s\u001b[0m 775us/step - loss: 0.2907 - val_loss: 0.4200\n",
      "Epoch 56/100\n",
      "\u001b[1m305/305\u001b[0m \u001b[32m━━━━━━━━━━━━━━━━━━━━\u001b[0m\u001b[37m\u001b[0m \u001b[1m0s\u001b[0m 801us/step - loss: 0.2850 - val_loss: 0.4246\n",
      "Epoch 57/100\n",
      "\u001b[1m305/305\u001b[0m \u001b[32m━━━━━━━━━━━━━━━━━━━━\u001b[0m\u001b[37m\u001b[0m \u001b[1m0s\u001b[0m 883us/step - loss: 0.2826 - val_loss: 0.4249\n",
      "Epoch 58/100\n",
      "\u001b[1m305/305\u001b[0m \u001b[32m━━━━━━━━━━━━━━━━━━━━\u001b[0m\u001b[37m\u001b[0m \u001b[1m0s\u001b[0m 780us/step - loss: 0.2858 - val_loss: 0.4260\n",
      "Epoch 59/100\n",
      "\u001b[1m305/305\u001b[0m \u001b[32m━━━━━━━━━━━━━━━━━━━━\u001b[0m\u001b[37m\u001b[0m \u001b[1m0s\u001b[0m 810us/step - loss: 0.2832 - val_loss: 0.4292\n",
      "Epoch 60/100\n",
      "\u001b[1m305/305\u001b[0m \u001b[32m━━━━━━━━━━━━━━━━━━━━\u001b[0m\u001b[37m\u001b[0m \u001b[1m0s\u001b[0m 865us/step - loss: 0.2858 - val_loss: 0.4273\n",
      "Epoch 61/100\n",
      "\u001b[1m305/305\u001b[0m \u001b[32m━━━━━━━━━━━━━━━━━━━━\u001b[0m\u001b[37m\u001b[0m \u001b[1m0s\u001b[0m 811us/step - loss: 0.2829 - val_loss: 0.4304\n",
      "Epoch 62/100\n",
      "\u001b[1m305/305\u001b[0m \u001b[32m━━━━━━━━━━━━━━━━━━━━\u001b[0m\u001b[37m\u001b[0m \u001b[1m0s\u001b[0m 870us/step - loss: 0.2789 - val_loss: 0.4316\n",
      "Epoch 63/100\n",
      "\u001b[1m305/305\u001b[0m \u001b[32m━━━━━━━━━━━━━━━━━━━━\u001b[0m\u001b[37m\u001b[0m \u001b[1m0s\u001b[0m 886us/step - loss: 0.2784 - val_loss: 0.4465\n",
      "Epoch 64/100\n",
      "\u001b[1m305/305\u001b[0m \u001b[32m━━━━━━━━━━━━━━━━━━━━\u001b[0m\u001b[37m\u001b[0m \u001b[1m0s\u001b[0m 795us/step - loss: 0.2835 - val_loss: 0.4273\n",
      "Epoch 65/100\n",
      "\u001b[1m305/305\u001b[0m \u001b[32m━━━━━━━━━━━━━━━━━━━━\u001b[0m\u001b[37m\u001b[0m \u001b[1m0s\u001b[0m 801us/step - loss: 0.2787 - val_loss: 0.4298\n",
      "Epoch 66/100\n",
      "\u001b[1m305/305\u001b[0m \u001b[32m━━━━━━━━━━━━━━━━━━━━\u001b[0m\u001b[37m\u001b[0m \u001b[1m0s\u001b[0m 778us/step - loss: 0.2778 - val_loss: 0.4321\n",
      "Epoch 67/100\n",
      "\u001b[1m305/305\u001b[0m \u001b[32m━━━━━━━━━━━━━━━━━━━━\u001b[0m\u001b[37m\u001b[0m \u001b[1m0s\u001b[0m 809us/step - loss: 0.2740 - val_loss: 0.4339\n",
      "Epoch 68/100\n",
      "\u001b[1m305/305\u001b[0m \u001b[32m━━━━━━━━━━━━━━━━━━━━\u001b[0m\u001b[37m\u001b[0m \u001b[1m0s\u001b[0m 838us/step - loss: 0.2741 - val_loss: 0.4282\n",
      "Epoch 69/100\n",
      "\u001b[1m305/305\u001b[0m \u001b[32m━━━━━━━━━━━━━━━━━━━━\u001b[0m\u001b[37m\u001b[0m \u001b[1m0s\u001b[0m 796us/step - loss: 0.2742 - val_loss: 0.4306\n",
      "Epoch 70/100\n",
      "\u001b[1m305/305\u001b[0m \u001b[32m━━━━━━━━━━━━━━━━━━━━\u001b[0m\u001b[37m\u001b[0m \u001b[1m0s\u001b[0m 768us/step - loss: 0.2757 - val_loss: 0.4305\n",
      "Epoch 71/100\n",
      "\u001b[1m305/305\u001b[0m \u001b[32m━━━━━━━━━━━━━━━━━━━━\u001b[0m\u001b[37m\u001b[0m \u001b[1m0s\u001b[0m 774us/step - loss: 0.2721 - val_loss: 0.4349\n",
      "Epoch 72/100\n",
      "\u001b[1m305/305\u001b[0m \u001b[32m━━━━━━━━━━━━━━━━━━━━\u001b[0m\u001b[37m\u001b[0m \u001b[1m0s\u001b[0m 775us/step - loss: 0.2687 - val_loss: 0.4369\n",
      "Epoch 73/100\n",
      "\u001b[1m305/305\u001b[0m \u001b[32m━━━━━━━━━━━━━━━━━━━━\u001b[0m\u001b[37m\u001b[0m \u001b[1m0s\u001b[0m 779us/step - loss: 0.2637 - val_loss: 0.4503\n",
      "Epoch 74/100\n",
      "\u001b[1m305/305\u001b[0m \u001b[32m━━━━━━━━━━━━━━━━━━━━\u001b[0m\u001b[37m\u001b[0m \u001b[1m0s\u001b[0m 780us/step - loss: 0.2625 - val_loss: 0.4324\n",
      "Epoch 75/100\n",
      "\u001b[1m305/305\u001b[0m \u001b[32m━━━━━━━━━━━━━━━━━━━━\u001b[0m\u001b[37m\u001b[0m \u001b[1m0s\u001b[0m 789us/step - loss: 0.2668 - val_loss: 0.4433\n",
      "Epoch 76/100\n",
      "\u001b[1m305/305\u001b[0m \u001b[32m━━━━━━━━━━━━━━━━━━━━\u001b[0m\u001b[37m\u001b[0m \u001b[1m0s\u001b[0m 776us/step - loss: 0.2656 - val_loss: 0.4390\n",
      "Epoch 77/100\n",
      "\u001b[1m305/305\u001b[0m \u001b[32m━━━━━━━━━━━━━━━━━━━━\u001b[0m\u001b[37m\u001b[0m \u001b[1m0s\u001b[0m 789us/step - loss: 0.2660 - val_loss: 0.4452\n",
      "Epoch 78/100\n",
      "\u001b[1m305/305\u001b[0m \u001b[32m━━━━━━━━━━━━━━━━━━━━\u001b[0m\u001b[37m\u001b[0m \u001b[1m0s\u001b[0m 775us/step - loss: 0.2605 - val_loss: 0.4574\n",
      "Epoch 79/100\n",
      "\u001b[1m305/305\u001b[0m \u001b[32m━━━━━━━━━━━━━━━━━━━━\u001b[0m\u001b[37m\u001b[0m \u001b[1m0s\u001b[0m 784us/step - loss: 0.2592 - val_loss: 0.4465\n",
      "Epoch 80/100\n",
      "\u001b[1m305/305\u001b[0m \u001b[32m━━━━━━━━━━━━━━━━━━━━\u001b[0m\u001b[37m\u001b[0m \u001b[1m0s\u001b[0m 775us/step - loss: 0.2628 - val_loss: 0.4414\n",
      "Epoch 81/100\n",
      "\u001b[1m305/305\u001b[0m \u001b[32m━━━━━━━━━━━━━━━━━━━━\u001b[0m\u001b[37m\u001b[0m \u001b[1m0s\u001b[0m 773us/step - loss: 0.2559 - val_loss: 0.4512\n",
      "Epoch 82/100\n",
      "\u001b[1m305/305\u001b[0m \u001b[32m━━━━━━━━━━━━━━━━━━━━\u001b[0m\u001b[37m\u001b[0m \u001b[1m0s\u001b[0m 786us/step - loss: 0.2546 - val_loss: 0.4642\n",
      "Epoch 83/100\n",
      "\u001b[1m305/305\u001b[0m \u001b[32m━━━━━━━━━━━━━━━━━━━━\u001b[0m\u001b[37m\u001b[0m \u001b[1m0s\u001b[0m 779us/step - loss: 0.2620 - val_loss: 0.4498\n",
      "Epoch 84/100\n",
      "\u001b[1m305/305\u001b[0m \u001b[32m━━━━━━━━━━━━━━━━━━━━\u001b[0m\u001b[37m\u001b[0m \u001b[1m0s\u001b[0m 772us/step - loss: 0.2570 - val_loss: 0.4570\n",
      "Epoch 85/100\n",
      "\u001b[1m305/305\u001b[0m \u001b[32m━━━━━━━━━━━━━━━━━━━━\u001b[0m\u001b[37m\u001b[0m \u001b[1m0s\u001b[0m 772us/step - loss: 0.2507 - val_loss: 0.4576\n",
      "Epoch 86/100\n",
      "\u001b[1m305/305\u001b[0m \u001b[32m━━━━━━━━━━━━━━━━━━━━\u001b[0m\u001b[37m\u001b[0m \u001b[1m0s\u001b[0m 774us/step - loss: 0.2558 - val_loss: 0.4506\n",
      "Epoch 87/100\n",
      "\u001b[1m305/305\u001b[0m \u001b[32m━━━━━━━━━━━━━━━━━━━━\u001b[0m\u001b[37m\u001b[0m \u001b[1m0s\u001b[0m 785us/step - loss: 0.2556 - val_loss: 0.4688\n",
      "Epoch 88/100\n",
      "\u001b[1m305/305\u001b[0m \u001b[32m━━━━━━━━━━━━━━━━━━━━\u001b[0m\u001b[37m\u001b[0m \u001b[1m0s\u001b[0m 782us/step - loss: 0.2534 - val_loss: 0.4657\n",
      "Epoch 89/100\n",
      "\u001b[1m305/305\u001b[0m \u001b[32m━━━━━━━━━━━━━━━━━━━━\u001b[0m\u001b[37m\u001b[0m \u001b[1m0s\u001b[0m 770us/step - loss: 0.2502 - val_loss: 0.4601\n",
      "Epoch 90/100\n",
      "\u001b[1m305/305\u001b[0m \u001b[32m━━━━━━━━━━━━━━━━━━━━\u001b[0m\u001b[37m\u001b[0m \u001b[1m0s\u001b[0m 778us/step - loss: 0.2502 - val_loss: 0.4546\n",
      "Epoch 91/100\n",
      "\u001b[1m305/305\u001b[0m \u001b[32m━━━━━━━━━━━━━━━━━━━━\u001b[0m\u001b[37m\u001b[0m \u001b[1m0s\u001b[0m 883us/step - loss: 0.2482 - val_loss: 0.4686\n",
      "Epoch 92/100\n",
      "\u001b[1m305/305\u001b[0m \u001b[32m━━━━━━━━━━━━━━━━━━━━\u001b[0m\u001b[37m\u001b[0m \u001b[1m0s\u001b[0m 801us/step - loss: 0.2497 - val_loss: 0.4665\n",
      "Epoch 93/100\n",
      "\u001b[1m305/305\u001b[0m \u001b[32m━━━━━━━━━━━━━━━━━━━━\u001b[0m\u001b[37m\u001b[0m \u001b[1m0s\u001b[0m 787us/step - loss: 0.2466 - val_loss: 0.4637\n",
      "Epoch 94/100\n",
      "\u001b[1m305/305\u001b[0m \u001b[32m━━━━━━━━━━━━━━━━━━━━\u001b[0m\u001b[37m\u001b[0m \u001b[1m0s\u001b[0m 780us/step - loss: 0.2491 - val_loss: 0.4573\n",
      "Epoch 95/100\n",
      "\u001b[1m305/305\u001b[0m \u001b[32m━━━━━━━━━━━━━━━━━━━━\u001b[0m\u001b[37m\u001b[0m \u001b[1m0s\u001b[0m 794us/step - loss: 0.2475 - val_loss: 0.4609\n",
      "Epoch 96/100\n",
      "\u001b[1m305/305\u001b[0m \u001b[32m━━━━━━━━━━━━━━━━━━━━\u001b[0m\u001b[37m\u001b[0m \u001b[1m0s\u001b[0m 784us/step - loss: 0.2440 - val_loss: 0.4630\n",
      "Epoch 97/100\n",
      "\u001b[1m305/305\u001b[0m \u001b[32m━━━━━━━━━━━━━━━━━━━━\u001b[0m\u001b[37m\u001b[0m \u001b[1m0s\u001b[0m 806us/step - loss: 0.2463 - val_loss: 0.4722\n",
      "Epoch 98/100\n",
      "\u001b[1m305/305\u001b[0m \u001b[32m━━━━━━━━━━━━━━━━━━━━\u001b[0m\u001b[37m\u001b[0m \u001b[1m0s\u001b[0m 784us/step - loss: 0.2405 - val_loss: 0.4558\n",
      "Epoch 99/100\n",
      "\u001b[1m305/305\u001b[0m \u001b[32m━━━━━━━━━━━━━━━━━━━━\u001b[0m\u001b[37m\u001b[0m \u001b[1m0s\u001b[0m 786us/step - loss: 0.2412 - val_loss: 0.4811\n",
      "Epoch 100/100\n",
      "\u001b[1m305/305\u001b[0m \u001b[32m━━━━━━━━━━━━━━━━━━━━\u001b[0m\u001b[37m\u001b[0m \u001b[1m0s\u001b[0m 781us/step - loss: 0.2430 - val_loss: 0.4922\n"
     ]
    },
    {
     "data": {
      "text/plain": [
       "<keras.src.callbacks.history.History at 0x7529c25cf510>"
      ]
     },
     "execution_count": 8,
     "metadata": {},
     "output_type": "execute_result"
    }
   ],
   "source": [
    "ff_model.fit(X, Y, epochs=100, validation_split=0.2)"
   ]
  },
  {
   "cell_type": "code",
   "execution_count": 9,
   "id": "d44a878a-b236-43f4-b43e-d441b5a9c291",
   "metadata": {},
   "outputs": [
    {
     "name": "stdout",
     "output_type": "stream",
     "text": [
      "INFO:tensorflow:Assets written to: ../models/ff/assets\n"
     ]
    },
    {
     "name": "stderr",
     "output_type": "stream",
     "text": [
      "INFO:tensorflow:Assets written to: ../models/ff/assets\n"
     ]
    },
    {
     "name": "stdout",
     "output_type": "stream",
     "text": [
      "Saved artifact at '../models/ff'. The following endpoints are available:\n",
      "\n",
      "* Endpoint 'serve'\n",
      "  args_0 (POSITIONAL_ONLY): TensorSpec(shape=(None, 49), dtype=tf.float32, name='input')\n",
      "Output Type:\n",
      "  TensorSpec(shape=(None, 4), dtype=tf.float32, name=None)\n",
      "Captures:\n",
      "  128822254049184: TensorSpec(shape=(), dtype=tf.resource, name=None)\n",
      "  128822214592640: TensorSpec(shape=(), dtype=tf.resource, name=None)\n",
      "  128822214592464: TensorSpec(shape=(), dtype=tf.resource, name=None)\n",
      "  128822214591408: TensorSpec(shape=(), dtype=tf.resource, name=None)\n"
     ]
    }
   ],
   "source": [
    "ff_model.export(\"../models/ff\")"
   ]
  },
  {
   "cell_type": "code",
   "execution_count": 10,
   "id": "1ce7be2a-348d-47bf-9fb7-d36a4d8e71d2",
   "metadata": {},
   "outputs": [],
   "source": [
    "import random\n",
    "random.seed(42)\n",
    "\n",
    "test_input = np.array([[random.random() for _ in range(49)]])"
   ]
  },
  {
   "cell_type": "code",
   "execution_count": 11,
   "id": "a38792c9-bc14-445f-9637-7b40008c282e",
   "metadata": {},
   "outputs": [
    {
     "data": {
      "text/plain": [
       "array([2.3518853e-04, 3.6624519e-03, 1.3104123e-02, 8.9012289e-01],\n",
       "      dtype=float32)"
      ]
     },
     "execution_count": 11,
     "metadata": {},
     "output_type": "execute_result"
    }
   ],
   "source": [
    "ff_model(test_input)[0].numpy()"
   ]
  },
  {
   "cell_type": "code",
   "execution_count": 12,
   "id": "b14d7c9e-8f0a-4b59-8cb0-d9e2a9ea7a82",
   "metadata": {},
   "outputs": [
    {
     "name": "stdout",
     "output_type": "stream",
     "text": [
      "2024-06-09 09:42:31.179162: I tensorflow/core/platform/cpu_feature_guard.cc:210] This TensorFlow binary is optimized to use available CPU instructions in performance-critical operations.\n",
      "To enable the following instructions: AVX2 FMA, in other operations, rebuild TensorFlow with the appropriate compiler flags.\n",
      "<frozen runpy>:128: RuntimeWarning: 'tf2onnx.convert' found in sys.modules after import of package 'tf2onnx', but prior to execution of 'tf2onnx.convert'; this may result in unpredictable behaviour\n",
      "2024-06-09 09:42:33,328 - WARNING - ***IMPORTANT*** Installed protobuf is not cpp accelerated. Conversion will be extremely slow. See https://github.com/onnx/tensorflow-onnx/issues/1557\n",
      "2024-06-09 09:42:33,329 - WARNING - '--tag' not specified for saved_model. Using --tag serve\n",
      "2024-06-09 09:42:33,465 - INFO - Signatures found in model: [serve,serving_default].\n",
      "2024-06-09 09:42:33,465 - WARNING - '--signature_def' not specified, using first signature: serve\n",
      "2024-06-09 09:42:33,465 - INFO - Output names: ['output_0']\n",
      "2024-06-09 09:42:33.473027: I tensorflow/core/grappler/devices.cc:75] Number of eligible GPUs (core count >= 8, compute capability >= 0.0): 0 (Note: TensorFlow was not compiled with CUDA or ROCm support)\n",
      "2024-06-09 09:42:33.473131: I tensorflow/core/grappler/clusters/single_machine.cc:361] Starting new session\n",
      "2024-06-09 09:42:33.541690: I tensorflow/core/grappler/devices.cc:75] Number of eligible GPUs (core count >= 8, compute capability >= 0.0): 0 (Note: TensorFlow was not compiled with CUDA or ROCm support)\n",
      "2024-06-09 09:42:33.541795: I tensorflow/core/grappler/clusters/single_machine.cc:361] Starting new session\n",
      "2024-06-09 09:42:33,549 - INFO - Using tensorflow=2.16.1, onnx=1.16.1, tf2onnx=1.16.1/15c810\n",
      "2024-06-09 09:42:33,549 - INFO - Using opset <onnx, 13>\n",
      "2024-06-09 09:42:33,554 - INFO - Computed 0 values for constant folding\n",
      "2024-06-09 09:42:33,564 - INFO - Optimizing ONNX model\n",
      "2024-06-09 09:42:33,590 - INFO - After optimization: Identity -2 (2->0)\n",
      "2024-06-09 09:42:33,592 - INFO - \n",
      "2024-06-09 09:42:33,592 - INFO - Successfully converted TensorFlow model ../models/ff to ONNX\n",
      "2024-06-09 09:42:33,592 - INFO - Model inputs: ['input']\n",
      "2024-06-09 09:42:33,592 - INFO - Model outputs: ['output_0']\n",
      "2024-06-09 09:42:33,592 - INFO - ONNX model is saved at ../models/ff.onnx\n"
     ]
    }
   ],
   "source": [
    "!python -m tf2onnx.convert --saved-model ../models/ff --output ../models/ff.onnx --opset 13"
   ]
  },
  {
   "cell_type": "code",
   "execution_count": 13,
   "id": "5846b97f-b0bc-407d-af9a-bb976afc7970",
   "metadata": {},
   "outputs": [],
   "source": [
    "import onnxruntime"
   ]
  },
  {
   "cell_type": "code",
   "execution_count": 14,
   "id": "f9830f42-3807-457d-9c4e-871217e81f87",
   "metadata": {},
   "outputs": [],
   "source": [
    "onnx_session = onnxruntime.InferenceSession(\"../models/ff.onnx\")"
   ]
  },
  {
   "cell_type": "code",
   "execution_count": 15,
   "id": "af4e7b7b-ba38-4f8d-8111-e27147ebc110",
   "metadata": {},
   "outputs": [
    {
     "data": {
      "text/plain": [
       "array([2.3519993e-04, 3.6624670e-03, 1.3104141e-02, 8.9012289e-01],\n",
       "      dtype=float32)"
      ]
     },
     "execution_count": 15,
     "metadata": {},
     "output_type": "execute_result"
    }
   ],
   "source": [
    "onnx_session.run([\"output_0\"], {\"input\": test_input.astype(np.float32)})[0][0]"
   ]
  },
  {
   "cell_type": "code",
   "execution_count": 16,
   "id": "038f2da9-bb79-4a8b-8f28-abd368c5d7a6",
   "metadata": {},
   "outputs": [],
   "source": [
    "sigmoid = lambda x: 1/(1 + np.exp(-x)) "
   ]
  },
  {
   "cell_type": "code",
   "execution_count": 17,
   "id": "661cf3fd-00f3-4af2-9e22-3f212185812f",
   "metadata": {},
   "outputs": [],
   "source": [
    "def create_numpy_model(tf_model):\n",
    "    weights = [w.numpy().astype(np.float32) for w in tf_model.weights]\n",
    "\n",
    "    def numpy_model(input):\n",
    "        hidden = np.tanh(np.matmul(input, weights[0]) + weights[1])\n",
    "        output = sigmoid(np.matmul(hidden, weights[2]) + weights[3])\n",
    "        return output\n",
    "\n",
    "    return numpy_model"
   ]
  },
  {
   "cell_type": "code",
   "execution_count": 18,
   "id": "e78f5eb4-7518-40d2-b63c-d2b7778d386e",
   "metadata": {},
   "outputs": [],
   "source": [
    "ff_model_np = create_numpy_model(ff_model)"
   ]
  },
  {
   "cell_type": "code",
   "execution_count": 19,
   "id": "65d4352f-f62a-4e21-9541-6055d9b8ff2f",
   "metadata": {},
   "outputs": [
    {
     "data": {
      "text/plain": [
       "array([[2.3518830e-04, 3.6624726e-03, 1.3104123e-02, 8.9012289e-01]],\n",
       "      dtype=float32)"
      ]
     },
     "execution_count": 19,
     "metadata": {},
     "output_type": "execute_result"
    }
   ],
   "source": [
    "ff_model_np(test_input.astype(np.float32))"
   ]
  }
 ],
 "metadata": {
  "kernelspec": {
   "display_name": "Python 3 (ipykernel)",
   "language": "python",
   "name": "python3"
  },
  "language_info": {
   "codemirror_mode": {
    "name": "ipython",
    "version": 3
   },
   "file_extension": ".py",
   "mimetype": "text/x-python",
   "name": "python",
   "nbconvert_exporter": "python",
   "pygments_lexer": "ipython3",
   "version": "3.11.1"
  }
 },
 "nbformat": 4,
 "nbformat_minor": 5
}
