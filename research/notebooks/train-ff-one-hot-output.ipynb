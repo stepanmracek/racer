{
 "cells": [
  {
   "cell_type": "code",
   "execution_count": 1,
   "id": "bb7712ca-fac2-4e86-b762-13162d227dfa",
   "metadata": {},
   "outputs": [
    {
     "name": "stderr",
     "output_type": "stream",
     "text": [
      "2024-11-15 10:11:09.646017: I tensorflow/core/util/port.cc:153] oneDNN custom operations are on. You may see slightly different numerical results due to floating-point round-off errors from different computation orders. To turn them off, set the environment variable `TF_ENABLE_ONEDNN_OPTS=0`.\n",
      "2024-11-15 10:11:09.646398: I external/local_xla/xla/tsl/cuda/cudart_stub.cc:32] Could not find cuda drivers on your machine, GPU will not be used.\n",
      "2024-11-15 10:11:09.648841: I external/local_xla/xla/tsl/cuda/cudart_stub.cc:32] Could not find cuda drivers on your machine, GPU will not be used.\n",
      "2024-11-15 10:11:09.655211: E external/local_xla/xla/stream_executor/cuda/cuda_fft.cc:477] Unable to register cuFFT factory: Attempting to register factory for plugin cuFFT when one has already been registered\n",
      "WARNING: All log messages before absl::InitializeLog() is called are written to STDERR\n",
      "E0000 00:00:1731661869.665745  178544 cuda_dnn.cc:8310] Unable to register cuDNN factory: Attempting to register factory for plugin cuDNN when one has already been registered\n",
      "E0000 00:00:1731661869.668540  178544 cuda_blas.cc:1418] Unable to register cuBLAS factory: Attempting to register factory for plugin cuBLAS when one has already been registered\n",
      "2024-11-15 10:11:09.679386: I tensorflow/core/platform/cpu_feature_guard.cc:210] This TensorFlow binary is optimized to use available CPU instructions in performance-critical operations.\n",
      "To enable the following instructions: AVX2 AVX_VNNI FMA, in other operations, rebuild TensorFlow with the appropriate compiler flags.\n",
      "/home/stepo/.pyenv/versions/3.12.3/envs/racer/lib/python3.12/site-packages/tqdm/auto.py:21: TqdmWarning: IProgress not found. Please update jupyter and ipywidgets. See https://ipywidgets.readthedocs.io/en/stable/user_install.html\n",
      "  from .autonotebook import tqdm as notebook_tqdm\n"
     ]
    }
   ],
   "source": [
    "import pandas as pd\n",
    "import numpy as np\n",
    "import csv\n",
    "import tensorflow as tf\n",
    "import tf2onnx\n",
    "import onnxruntime\n",
    "from matplotlib import pyplot as plt\n",
    "from collections import Counter\n",
    "from tqdm.auto import tqdm"
   ]
  },
  {
   "cell_type": "code",
   "execution_count": 2,
   "id": "2a34e6f1-4b3c-4f47-8cef-adb57a068158",
   "metadata": {},
   "outputs": [
    {
     "data": {
      "text/html": [
       "<div>\n",
       "<style scoped>\n",
       "    .dataframe tbody tr th:only-of-type {\n",
       "        vertical-align: middle;\n",
       "    }\n",
       "\n",
       "    .dataframe tbody tr th {\n",
       "        vertical-align: top;\n",
       "    }\n",
       "\n",
       "    .dataframe thead th {\n",
       "        text-align: right;\n",
       "    }\n",
       "</style>\n",
       "<table border=\"1\" class=\"dataframe\">\n",
       "  <thead>\n",
       "    <tr style=\"text-align: right;\">\n",
       "      <th></th>\n",
       "      <th>0</th>\n",
       "      <th>1</th>\n",
       "      <th>2</th>\n",
       "      <th>3</th>\n",
       "      <th>4</th>\n",
       "      <th>5</th>\n",
       "      <th>6</th>\n",
       "      <th>7</th>\n",
       "      <th>8</th>\n",
       "      <th>9</th>\n",
       "      <th>...</th>\n",
       "      <th>19</th>\n",
       "      <th>20</th>\n",
       "      <th>21</th>\n",
       "      <th>22</th>\n",
       "      <th>23</th>\n",
       "      <th>24</th>\n",
       "      <th>25</th>\n",
       "      <th>26</th>\n",
       "      <th>27</th>\n",
       "      <th>28</th>\n",
       "    </tr>\n",
       "  </thead>\n",
       "  <tbody>\n",
       "    <tr>\n",
       "      <th>0</th>\n",
       "      <td>0.1</td>\n",
       "      <td>e-399</td>\n",
       "      <td>NaN</td>\n",
       "      <td>w-219</td>\n",
       "      <td>NaN</td>\n",
       "      <td>NaN</td>\n",
       "      <td>w-77</td>\n",
       "      <td>w-71</td>\n",
       "      <td>w-72</td>\n",
       "      <td>w-109</td>\n",
       "      <td>...</td>\n",
       "      <td>w-196</td>\n",
       "      <td>w-185</td>\n",
       "      <td>NaN</td>\n",
       "      <td>NaN</td>\n",
       "      <td>NaN</td>\n",
       "      <td>w-215</td>\n",
       "      <td>1</td>\n",
       "      <td>0</td>\n",
       "      <td>0</td>\n",
       "      <td>0</td>\n",
       "    </tr>\n",
       "    <tr>\n",
       "      <th>1</th>\n",
       "      <td>0.3</td>\n",
       "      <td>e-399</td>\n",
       "      <td>NaN</td>\n",
       "      <td>w-219</td>\n",
       "      <td>NaN</td>\n",
       "      <td>NaN</td>\n",
       "      <td>w-77</td>\n",
       "      <td>w-71</td>\n",
       "      <td>w-72</td>\n",
       "      <td>w-109</td>\n",
       "      <td>...</td>\n",
       "      <td>w-196</td>\n",
       "      <td>w-185</td>\n",
       "      <td>NaN</td>\n",
       "      <td>NaN</td>\n",
       "      <td>NaN</td>\n",
       "      <td>w-215</td>\n",
       "      <td>1</td>\n",
       "      <td>0</td>\n",
       "      <td>0</td>\n",
       "      <td>0</td>\n",
       "    </tr>\n",
       "    <tr>\n",
       "      <th>2</th>\n",
       "      <td>0.6</td>\n",
       "      <td>e-397</td>\n",
       "      <td>NaN</td>\n",
       "      <td>w-215</td>\n",
       "      <td>NaN</td>\n",
       "      <td>NaN</td>\n",
       "      <td>w-77</td>\n",
       "      <td>w-73</td>\n",
       "      <td>w-72</td>\n",
       "      <td>w-109</td>\n",
       "      <td>...</td>\n",
       "      <td>w-197</td>\n",
       "      <td>w-185</td>\n",
       "      <td>NaN</td>\n",
       "      <td>NaN</td>\n",
       "      <td>NaN</td>\n",
       "      <td>w-213</td>\n",
       "      <td>1</td>\n",
       "      <td>0</td>\n",
       "      <td>0</td>\n",
       "      <td>0</td>\n",
       "    </tr>\n",
       "    <tr>\n",
       "      <th>3</th>\n",
       "      <td>0.8</td>\n",
       "      <td>e-396</td>\n",
       "      <td>NaN</td>\n",
       "      <td>w-214</td>\n",
       "      <td>NaN</td>\n",
       "      <td>NaN</td>\n",
       "      <td>w-79</td>\n",
       "      <td>w-72</td>\n",
       "      <td>w-72</td>\n",
       "      <td>w-109</td>\n",
       "      <td>...</td>\n",
       "      <td>w-196</td>\n",
       "      <td>w-185</td>\n",
       "      <td>NaN</td>\n",
       "      <td>NaN</td>\n",
       "      <td>NaN</td>\n",
       "      <td>w-213</td>\n",
       "      <td>1</td>\n",
       "      <td>0</td>\n",
       "      <td>0</td>\n",
       "      <td>0</td>\n",
       "    </tr>\n",
       "    <tr>\n",
       "      <th>4</th>\n",
       "      <td>1.0</td>\n",
       "      <td>e-394</td>\n",
       "      <td>NaN</td>\n",
       "      <td>w-211</td>\n",
       "      <td>NaN</td>\n",
       "      <td>NaN</td>\n",
       "      <td>w-81</td>\n",
       "      <td>w-70</td>\n",
       "      <td>w-72</td>\n",
       "      <td>w-109</td>\n",
       "      <td>...</td>\n",
       "      <td>w-196</td>\n",
       "      <td>w-185</td>\n",
       "      <td>NaN</td>\n",
       "      <td>NaN</td>\n",
       "      <td>NaN</td>\n",
       "      <td>w-211</td>\n",
       "      <td>1</td>\n",
       "      <td>0</td>\n",
       "      <td>0</td>\n",
       "      <td>0</td>\n",
       "    </tr>\n",
       "    <tr>\n",
       "      <th>...</th>\n",
       "      <td>...</td>\n",
       "      <td>...</td>\n",
       "      <td>...</td>\n",
       "      <td>...</td>\n",
       "      <td>...</td>\n",
       "      <td>...</td>\n",
       "      <td>...</td>\n",
       "      <td>...</td>\n",
       "      <td>...</td>\n",
       "      <td>...</td>\n",
       "      <td>...</td>\n",
       "      <td>...</td>\n",
       "      <td>...</td>\n",
       "      <td>...</td>\n",
       "      <td>...</td>\n",
       "      <td>...</td>\n",
       "      <td>...</td>\n",
       "      <td>...</td>\n",
       "      <td>...</td>\n",
       "      <td>...</td>\n",
       "      <td>...</td>\n",
       "    </tr>\n",
       "    <tr>\n",
       "      <th>12163</th>\n",
       "      <td>-4.3</td>\n",
       "      <td>w-185</td>\n",
       "      <td>d-322</td>\n",
       "      <td>w-127</td>\n",
       "      <td>w-130</td>\n",
       "      <td>w-187</td>\n",
       "      <td>NaN</td>\n",
       "      <td>NaN</td>\n",
       "      <td>NaN</td>\n",
       "      <td>e-153</td>\n",
       "      <td>...</td>\n",
       "      <td>w-28</td>\n",
       "      <td>w-30</td>\n",
       "      <td>w-35</td>\n",
       "      <td>w-44</td>\n",
       "      <td>w-43</td>\n",
       "      <td>w-73</td>\n",
       "      <td>0</td>\n",
       "      <td>1</td>\n",
       "      <td>1</td>\n",
       "      <td>0</td>\n",
       "    </tr>\n",
       "    <tr>\n",
       "      <th>12164</th>\n",
       "      <td>-4.4</td>\n",
       "      <td>w-187</td>\n",
       "      <td>d-327</td>\n",
       "      <td>w-133</td>\n",
       "      <td>w-134</td>\n",
       "      <td>w-189</td>\n",
       "      <td>NaN</td>\n",
       "      <td>NaN</td>\n",
       "      <td>NaN</td>\n",
       "      <td>e-150</td>\n",
       "      <td>...</td>\n",
       "      <td>w-28</td>\n",
       "      <td>w-30</td>\n",
       "      <td>w-32</td>\n",
       "      <td>w-41</td>\n",
       "      <td>w-47</td>\n",
       "      <td>w-64</td>\n",
       "      <td>0</td>\n",
       "      <td>1</td>\n",
       "      <td>1</td>\n",
       "      <td>0</td>\n",
       "    </tr>\n",
       "    <tr>\n",
       "      <th>12165</th>\n",
       "      <td>-4.5</td>\n",
       "      <td>w-136</td>\n",
       "      <td>d-331</td>\n",
       "      <td>w-144</td>\n",
       "      <td>w-137</td>\n",
       "      <td>w-191</td>\n",
       "      <td>NaN</td>\n",
       "      <td>NaN</td>\n",
       "      <td>NaN</td>\n",
       "      <td>e-148</td>\n",
       "      <td>...</td>\n",
       "      <td>w-31</td>\n",
       "      <td>w-29</td>\n",
       "      <td>w-33</td>\n",
       "      <td>w-40</td>\n",
       "      <td>w-51</td>\n",
       "      <td>w-56</td>\n",
       "      <td>0</td>\n",
       "      <td>1</td>\n",
       "      <td>1</td>\n",
       "      <td>0</td>\n",
       "    </tr>\n",
       "    <tr>\n",
       "      <th>12166</th>\n",
       "      <td>-4.6</td>\n",
       "      <td>w-96</td>\n",
       "      <td>d-336</td>\n",
       "      <td>w-152</td>\n",
       "      <td>w-137</td>\n",
       "      <td>w-193</td>\n",
       "      <td>NaN</td>\n",
       "      <td>NaN</td>\n",
       "      <td>NaN</td>\n",
       "      <td>e-145</td>\n",
       "      <td>...</td>\n",
       "      <td>w-35</td>\n",
       "      <td>w-32</td>\n",
       "      <td>w-31</td>\n",
       "      <td>w-37</td>\n",
       "      <td>w-53</td>\n",
       "      <td>w-59</td>\n",
       "      <td>0</td>\n",
       "      <td>1</td>\n",
       "      <td>1</td>\n",
       "      <td>0</td>\n",
       "    </tr>\n",
       "    <tr>\n",
       "      <th>12167</th>\n",
       "      <td>-4.7</td>\n",
       "      <td>w-94</td>\n",
       "      <td>d-340</td>\n",
       "      <td>NaN</td>\n",
       "      <td>w-139</td>\n",
       "      <td>w-195</td>\n",
       "      <td>NaN</td>\n",
       "      <td>NaN</td>\n",
       "      <td>NaN</td>\n",
       "      <td>e-143</td>\n",
       "      <td>...</td>\n",
       "      <td>w-35</td>\n",
       "      <td>w-33</td>\n",
       "      <td>w-31</td>\n",
       "      <td>w-38</td>\n",
       "      <td>w-50</td>\n",
       "      <td>w-59</td>\n",
       "      <td>0</td>\n",
       "      <td>1</td>\n",
       "      <td>1</td>\n",
       "      <td>0</td>\n",
       "    </tr>\n",
       "  </tbody>\n",
       "</table>\n",
       "<p>12168 rows × 29 columns</p>\n",
       "</div>"
      ],
      "text/plain": [
       "        0      1      2      3      4      5     6     7     8      9   ...  \\\n",
       "0      0.1  e-399    NaN  w-219    NaN    NaN  w-77  w-71  w-72  w-109  ...   \n",
       "1      0.3  e-399    NaN  w-219    NaN    NaN  w-77  w-71  w-72  w-109  ...   \n",
       "2      0.6  e-397    NaN  w-215    NaN    NaN  w-77  w-73  w-72  w-109  ...   \n",
       "3      0.8  e-396    NaN  w-214    NaN    NaN  w-79  w-72  w-72  w-109  ...   \n",
       "4      1.0  e-394    NaN  w-211    NaN    NaN  w-81  w-70  w-72  w-109  ...   \n",
       "...    ...    ...    ...    ...    ...    ...   ...   ...   ...    ...  ...   \n",
       "12163 -4.3  w-185  d-322  w-127  w-130  w-187   NaN   NaN   NaN  e-153  ...   \n",
       "12164 -4.4  w-187  d-327  w-133  w-134  w-189   NaN   NaN   NaN  e-150  ...   \n",
       "12165 -4.5  w-136  d-331  w-144  w-137  w-191   NaN   NaN   NaN  e-148  ...   \n",
       "12166 -4.6   w-96  d-336  w-152  w-137  w-193   NaN   NaN   NaN  e-145  ...   \n",
       "12167 -4.7   w-94  d-340    NaN  w-139  w-195   NaN   NaN   NaN  e-143  ...   \n",
       "\n",
       "          19     20    21    22    23     24 25 26 27 28  \n",
       "0      w-196  w-185   NaN   NaN   NaN  w-215  1  0  0  0  \n",
       "1      w-196  w-185   NaN   NaN   NaN  w-215  1  0  0  0  \n",
       "2      w-197  w-185   NaN   NaN   NaN  w-213  1  0  0  0  \n",
       "3      w-196  w-185   NaN   NaN   NaN  w-213  1  0  0  0  \n",
       "4      w-196  w-185   NaN   NaN   NaN  w-211  1  0  0  0  \n",
       "...      ...    ...   ...   ...   ...    ... .. .. .. ..  \n",
       "12163   w-28   w-30  w-35  w-44  w-43   w-73  0  1  1  0  \n",
       "12164   w-28   w-30  w-32  w-41  w-47   w-64  0  1  1  0  \n",
       "12165   w-31   w-29  w-33  w-40  w-51   w-56  0  1  1  0  \n",
       "12166   w-35   w-32  w-31  w-37  w-53   w-59  0  1  1  0  \n",
       "12167   w-35   w-33  w-31  w-38  w-50   w-59  0  1  1  0  \n",
       "\n",
       "[12168 rows x 29 columns]"
      ]
     },
     "metadata": {},
     "output_type": "display_data"
    }
   ],
   "source": [
    "data = pd.read_csv(\"train.csv\", header=None)\n",
    "display(data)"
   ]
  },
  {
   "cell_type": "code",
   "execution_count": 3,
   "id": "2f9e60f7-89c1-4a18-876c-fcdd2dbfb7ab",
   "metadata": {},
   "outputs": [
    {
     "name": "stderr",
     "output_type": "stream",
     "text": [
      "12168it [00:00, 38301.96it/s]\n"
     ]
    },
    {
     "data": {
      "text/plain": [
       "((12168, 73), (12168, 9))"
      ]
     },
     "execution_count": 3,
     "metadata": {},
     "output_type": "execute_result"
    }
   ],
   "source": [
    "def parse_sensor(s, letters, max_val=501.0):\n",
    "    if not s:\n",
    "        return 1.0\n",
    "    if s[0] not in letters:\n",
    "        return 1.0\n",
    "    return float(s[2:])/max_val\n",
    "\n",
    "def parse_keys(keys):\n",
    "    \"\"\"\n",
    "    up,down,left,right flags to one-hot encoded representation\n",
    "    (up+left)   -> 0 (up)      -> 1 (up+right)   -> 2\n",
    "    (left)      -> 3 (nothing) -> 4 (right)      -> 5\n",
    "    (down+left) -> 6 (down)    -> 7 (down+right) -> 8\n",
    "    \"\"\"\n",
    "    if np.array_equal(keys, [1,0,1,0]):\n",
    "        return np.array([1.0,0.0,0.0, 0.0,0.0,0.0, 0.0,0.0,0.0])\n",
    "    if np.array_equal(keys, [1,0,0,0]):\n",
    "        return np.array([0.0,1.0,0.0, 0.0,0.0,0.0, 0.0,0.0,0.0])\n",
    "    if np.array_equal(keys, [1,0,0,1]):\n",
    "        return np.array([0.0,0.0,1.0, 0.0,0.0,0.0, 0.0,0.0,0.0])\n",
    "    \n",
    "    if np.array_equal(keys, [0,0,1,0]):\n",
    "        return np.array([0.0,0.0,0.0, 1.0,0.0,0.0, 0.0,0.0,0.0])\n",
    "    if np.array_equal(keys, [0,0,0,0]) or np.array_equal(keys, [0,0,1,1]):\n",
    "        return np.array([0.0,0.0,0.0, 0.0,1.0,0.0, 0.0,0.0,0.0])\n",
    "    if np.array_equal(keys, [0,0,0,1]):\n",
    "        return np.array([0.0,0.0,0.0, 0.0,0.0,1.0, 0.0,0.0,0.0])\n",
    "\n",
    "    if np.array_equal(keys, [0,1,1,0]):\n",
    "        return np.array([0.0,0.0,0.0, 0.0,0.0,0.0, 1.0,0.0,0.0])\n",
    "    if np.array_equal(keys, [0,1,0,0]):\n",
    "        return np.array([0.0,0.0,0.0, 0.0,0.0,0.0, 0.0,1.0,0.0])\n",
    "    if np.array_equal(keys, [0,1,0,1]):\n",
    "        return np.array([0.0,0.0,0.0, 0.0,0.0,0.0, 0.0,1.0,0.0])\n",
    "\n",
    "    raise ValueError(f\"Unknown key combination: {keys}\")\n",
    "    \n",
    "\n",
    "X = []\n",
    "Y = []\n",
    "with open(\"train.csv\") as f:\n",
    "    for row in tqdm(csv.reader(f)):\n",
    "        velocity = np.array([float(row[0])])\n",
    "        sensors = row[1:25]\n",
    "        keys = np.fromiter((float(k) for k in row[25:]), dtype=float)\n",
    "        keys = parse_keys(keys)\n",
    "        walls = np.fromiter((parse_sensor(s, (\"w\",)) for s in sensors), dtype=float)\n",
    "        enemy = np.fromiter((parse_sensor(s, (\"e\",)) for s in sensors), dtype=float)\n",
    "        diamonds = np.fromiter((parse_sensor(s, (\"d\",)) for s in sensors), dtype=float)\n",
    "        X.append(np.concatenate((velocity, walls, enemy, diamonds)))\n",
    "        Y.append(keys)\n",
    "\n",
    "X = np.array(X)\n",
    "Y = np.array(Y)\n",
    "X.shape, Y.shape"
   ]
  },
  {
   "cell_type": "code",
   "execution_count": 4,
   "id": "5bae7924-8970-424b-bae2-a23cf39b3c3c",
   "metadata": {},
   "outputs": [
    {
     "name": "stderr",
     "output_type": "stream",
     "text": [
      "2024-11-15 10:11:11.614169: E external/local_xla/xla/stream_executor/cuda/cuda_driver.cc:152] failed call to cuInit: INTERNAL: CUDA error: Failed call to cuInit: UNKNOWN ERROR (303)\n"
     ]
    }
   ],
   "source": [
    "def create_ff_model():\n",
    "    input = tf.keras.Input(shape=(X.shape[1],), name=\"input\")\n",
    "    hidden = tf.keras.layers.Dense(64, activation=\"tanh\", name=\"hidden1\")(input)\n",
    "    output = tf.keras.layers.Dense(Y.shape[1], activation='softmax', name='output')(hidden)\n",
    "\n",
    "    model = tf.keras.Model(name=\"ff_model\", inputs=input, outputs=output)\n",
    "    model.compile(optimizer='adam', loss=\"categorical_crossentropy\")\n",
    "    return model\n",
    "\n",
    "ff_model = create_ff_model()"
   ]
  },
  {
   "cell_type": "code",
   "execution_count": 5,
   "id": "c02547e4-fe45-41c6-acc5-e78b2d9c7861",
   "metadata": {},
   "outputs": [
    {
     "data": {
      "text/html": [
       "<pre style=\"white-space:pre;overflow-x:auto;line-height:normal;font-family:Menlo,'DejaVu Sans Mono',consolas,'Courier New',monospace\"><span style=\"font-weight: bold\">Model: \"ff_model\"</span>\n",
       "</pre>\n"
      ],
      "text/plain": [
       "\u001b[1mModel: \"ff_model\"\u001b[0m\n"
      ]
     },
     "metadata": {},
     "output_type": "display_data"
    },
    {
     "data": {
      "text/html": [
       "<pre style=\"white-space:pre;overflow-x:auto;line-height:normal;font-family:Menlo,'DejaVu Sans Mono',consolas,'Courier New',monospace\">┏━━━━━━━━━━━━━━━━━━━━━━━━━━━━━━━━━┳━━━━━━━━━━━━━━━━━━━━━━━━┳━━━━━━━━━━━━━━━┓\n",
       "┃<span style=\"font-weight: bold\"> Layer (type)                    </span>┃<span style=\"font-weight: bold\"> Output Shape           </span>┃<span style=\"font-weight: bold\">       Param # </span>┃\n",
       "┡━━━━━━━━━━━━━━━━━━━━━━━━━━━━━━━━━╇━━━━━━━━━━━━━━━━━━━━━━━━╇━━━━━━━━━━━━━━━┩\n",
       "│ input (<span style=\"color: #0087ff; text-decoration-color: #0087ff\">InputLayer</span>)              │ (<span style=\"color: #00d7ff; text-decoration-color: #00d7ff\">None</span>, <span style=\"color: #00af00; text-decoration-color: #00af00\">73</span>)             │             <span style=\"color: #00af00; text-decoration-color: #00af00\">0</span> │\n",
       "├─────────────────────────────────┼────────────────────────┼───────────────┤\n",
       "│ hidden1 (<span style=\"color: #0087ff; text-decoration-color: #0087ff\">Dense</span>)                 │ (<span style=\"color: #00d7ff; text-decoration-color: #00d7ff\">None</span>, <span style=\"color: #00af00; text-decoration-color: #00af00\">64</span>)             │         <span style=\"color: #00af00; text-decoration-color: #00af00\">4,736</span> │\n",
       "├─────────────────────────────────┼────────────────────────┼───────────────┤\n",
       "│ output (<span style=\"color: #0087ff; text-decoration-color: #0087ff\">Dense</span>)                  │ (<span style=\"color: #00d7ff; text-decoration-color: #00d7ff\">None</span>, <span style=\"color: #00af00; text-decoration-color: #00af00\">9</span>)              │           <span style=\"color: #00af00; text-decoration-color: #00af00\">585</span> │\n",
       "└─────────────────────────────────┴────────────────────────┴───────────────┘\n",
       "</pre>\n"
      ],
      "text/plain": [
       "┏━━━━━━━━━━━━━━━━━━━━━━━━━━━━━━━━━┳━━━━━━━━━━━━━━━━━━━━━━━━┳━━━━━━━━━━━━━━━┓\n",
       "┃\u001b[1m \u001b[0m\u001b[1mLayer (type)                   \u001b[0m\u001b[1m \u001b[0m┃\u001b[1m \u001b[0m\u001b[1mOutput Shape          \u001b[0m\u001b[1m \u001b[0m┃\u001b[1m \u001b[0m\u001b[1m      Param #\u001b[0m\u001b[1m \u001b[0m┃\n",
       "┡━━━━━━━━━━━━━━━━━━━━━━━━━━━━━━━━━╇━━━━━━━━━━━━━━━━━━━━━━━━╇━━━━━━━━━━━━━━━┩\n",
       "│ input (\u001b[38;5;33mInputLayer\u001b[0m)              │ (\u001b[38;5;45mNone\u001b[0m, \u001b[38;5;34m73\u001b[0m)             │             \u001b[38;5;34m0\u001b[0m │\n",
       "├─────────────────────────────────┼────────────────────────┼───────────────┤\n",
       "│ hidden1 (\u001b[38;5;33mDense\u001b[0m)                 │ (\u001b[38;5;45mNone\u001b[0m, \u001b[38;5;34m64\u001b[0m)             │         \u001b[38;5;34m4,736\u001b[0m │\n",
       "├─────────────────────────────────┼────────────────────────┼───────────────┤\n",
       "│ output (\u001b[38;5;33mDense\u001b[0m)                  │ (\u001b[38;5;45mNone\u001b[0m, \u001b[38;5;34m9\u001b[0m)              │           \u001b[38;5;34m585\u001b[0m │\n",
       "└─────────────────────────────────┴────────────────────────┴───────────────┘\n"
      ]
     },
     "metadata": {},
     "output_type": "display_data"
    },
    {
     "data": {
      "text/html": [
       "<pre style=\"white-space:pre;overflow-x:auto;line-height:normal;font-family:Menlo,'DejaVu Sans Mono',consolas,'Courier New',monospace\"><span style=\"font-weight: bold\"> Total params: </span><span style=\"color: #00af00; text-decoration-color: #00af00\">5,321</span> (20.79 KB)\n",
       "</pre>\n"
      ],
      "text/plain": [
       "\u001b[1m Total params: \u001b[0m\u001b[38;5;34m5,321\u001b[0m (20.79 KB)\n"
      ]
     },
     "metadata": {},
     "output_type": "display_data"
    },
    {
     "data": {
      "text/html": [
       "<pre style=\"white-space:pre;overflow-x:auto;line-height:normal;font-family:Menlo,'DejaVu Sans Mono',consolas,'Courier New',monospace\"><span style=\"font-weight: bold\"> Trainable params: </span><span style=\"color: #00af00; text-decoration-color: #00af00\">5,321</span> (20.79 KB)\n",
       "</pre>\n"
      ],
      "text/plain": [
       "\u001b[1m Trainable params: \u001b[0m\u001b[38;5;34m5,321\u001b[0m (20.79 KB)\n"
      ]
     },
     "metadata": {},
     "output_type": "display_data"
    },
    {
     "data": {
      "text/html": [
       "<pre style=\"white-space:pre;overflow-x:auto;line-height:normal;font-family:Menlo,'DejaVu Sans Mono',consolas,'Courier New',monospace\"><span style=\"font-weight: bold\"> Non-trainable params: </span><span style=\"color: #00af00; text-decoration-color: #00af00\">0</span> (0.00 B)\n",
       "</pre>\n"
      ],
      "text/plain": [
       "\u001b[1m Non-trainable params: \u001b[0m\u001b[38;5;34m0\u001b[0m (0.00 B)\n"
      ]
     },
     "metadata": {},
     "output_type": "display_data"
    }
   ],
   "source": [
    "ff_model.summary()"
   ]
  },
  {
   "cell_type": "code",
   "execution_count": 6,
   "id": "1db0e7d3-c083-4fe9-bc5a-d87be139f02b",
   "metadata": {},
   "outputs": [
    {
     "name": "stdout",
     "output_type": "stream",
     "text": [
      "Epoch 1/20\n",
      "\u001b[1m305/305\u001b[0m \u001b[32m━━━━━━━━━━━━━━━━━━━━\u001b[0m\u001b[37m\u001b[0m \u001b[1m1s\u001b[0m 975us/step - loss: 1.7636 - val_loss: 1.6157\n",
      "Epoch 2/20\n",
      "\u001b[1m305/305\u001b[0m \u001b[32m━━━━━━━━━━━━━━━━━━━━\u001b[0m\u001b[37m\u001b[0m \u001b[1m0s\u001b[0m 657us/step - loss: 1.4751 - val_loss: 1.5662\n",
      "Epoch 3/20\n",
      "\u001b[1m305/305\u001b[0m \u001b[32m━━━━━━━━━━━━━━━━━━━━\u001b[0m\u001b[37m\u001b[0m \u001b[1m0s\u001b[0m 702us/step - loss: 1.4380 - val_loss: 1.5925\n",
      "Epoch 4/20\n",
      "\u001b[1m305/305\u001b[0m \u001b[32m━━━━━━━━━━━━━━━━━━━━\u001b[0m\u001b[37m\u001b[0m \u001b[1m0s\u001b[0m 607us/step - loss: 1.3966 - val_loss: 1.5768\n",
      "Epoch 5/20\n",
      "\u001b[1m305/305\u001b[0m \u001b[32m━━━━━━━━━━━━━━━━━━━━\u001b[0m\u001b[37m\u001b[0m \u001b[1m0s\u001b[0m 575us/step - loss: 1.3788 - val_loss: 1.5809\n",
      "Epoch 6/20\n",
      "\u001b[1m305/305\u001b[0m \u001b[32m━━━━━━━━━━━━━━━━━━━━\u001b[0m\u001b[37m\u001b[0m \u001b[1m0s\u001b[0m 732us/step - loss: 1.3575 - val_loss: 1.5690\n",
      "Epoch 7/20\n",
      "\u001b[1m305/305\u001b[0m \u001b[32m━━━━━━━━━━━━━━━━━━━━\u001b[0m\u001b[37m\u001b[0m \u001b[1m0s\u001b[0m 582us/step - loss: 1.3500 - val_loss: 1.6110\n",
      "Epoch 8/20\n",
      "\u001b[1m305/305\u001b[0m \u001b[32m━━━━━━━━━━━━━━━━━━━━\u001b[0m\u001b[37m\u001b[0m \u001b[1m0s\u001b[0m 508us/step - loss: 1.3559 - val_loss: 1.5444\n",
      "Epoch 9/20\n",
      "\u001b[1m305/305\u001b[0m \u001b[32m━━━━━━━━━━━━━━━━━━━━\u001b[0m\u001b[37m\u001b[0m \u001b[1m0s\u001b[0m 696us/step - loss: 1.3283 - val_loss: 1.5304\n",
      "Epoch 10/20\n",
      "\u001b[1m305/305\u001b[0m \u001b[32m━━━━━━━━━━━━━━━━━━━━\u001b[0m\u001b[37m\u001b[0m \u001b[1m0s\u001b[0m 649us/step - loss: 1.3368 - val_loss: 1.5819\n",
      "Epoch 11/20\n",
      "\u001b[1m305/305\u001b[0m \u001b[32m━━━━━━━━━━━━━━━━━━━━\u001b[0m\u001b[37m\u001b[0m \u001b[1m0s\u001b[0m 578us/step - loss: 1.3135 - val_loss: 1.5266\n",
      "Epoch 12/20\n",
      "\u001b[1m305/305\u001b[0m \u001b[32m━━━━━━━━━━━━━━━━━━━━\u001b[0m\u001b[37m\u001b[0m \u001b[1m0s\u001b[0m 768us/step - loss: 1.2999 - val_loss: 1.5321\n",
      "Epoch 13/20\n",
      "\u001b[1m305/305\u001b[0m \u001b[32m━━━━━━━━━━━━━━━━━━━━\u001b[0m\u001b[37m\u001b[0m \u001b[1m0s\u001b[0m 568us/step - loss: 1.2848 - val_loss: 1.5707\n",
      "Epoch 14/20\n",
      "\u001b[1m305/305\u001b[0m \u001b[32m━━━━━━━━━━━━━━━━━━━━\u001b[0m\u001b[37m\u001b[0m \u001b[1m0s\u001b[0m 668us/step - loss: 1.2895 - val_loss: 1.5330\n",
      "Epoch 15/20\n",
      "\u001b[1m305/305\u001b[0m \u001b[32m━━━━━━━━━━━━━━━━━━━━\u001b[0m\u001b[37m\u001b[0m \u001b[1m0s\u001b[0m 630us/step - loss: 1.2848 - val_loss: 1.5554\n",
      "Epoch 16/20\n",
      "\u001b[1m305/305\u001b[0m \u001b[32m━━━━━━━━━━━━━━━━━━━━\u001b[0m\u001b[37m\u001b[0m \u001b[1m0s\u001b[0m 624us/step - loss: 1.2739 - val_loss: 1.5426\n",
      "Epoch 17/20\n",
      "\u001b[1m305/305\u001b[0m \u001b[32m━━━━━━━━━━━━━━━━━━━━\u001b[0m\u001b[37m\u001b[0m \u001b[1m0s\u001b[0m 599us/step - loss: 1.2596 - val_loss: 1.5530\n",
      "Epoch 18/20\n",
      "\u001b[1m305/305\u001b[0m \u001b[32m━━━━━━━━━━━━━━━━━━━━\u001b[0m\u001b[37m\u001b[0m \u001b[1m0s\u001b[0m 660us/step - loss: 1.2555 - val_loss: 1.5594\n",
      "Epoch 19/20\n",
      "\u001b[1m305/305\u001b[0m \u001b[32m━━━━━━━━━━━━━━━━━━━━\u001b[0m\u001b[37m\u001b[0m \u001b[1m0s\u001b[0m 685us/step - loss: 1.2426 - val_loss: 1.5103\n",
      "Epoch 20/20\n",
      "\u001b[1m305/305\u001b[0m \u001b[32m━━━━━━━━━━━━━━━━━━━━\u001b[0m\u001b[37m\u001b[0m \u001b[1m0s\u001b[0m 653us/step - loss: 1.2401 - val_loss: 1.5478\n"
     ]
    },
    {
     "data": {
      "text/plain": [
       "<keras.src.callbacks.history.History at 0x707e8537f230>"
      ]
     },
     "execution_count": 6,
     "metadata": {},
     "output_type": "execute_result"
    }
   ],
   "source": [
    "ff_model.fit(X, Y, epochs=20, validation_split=0.2)"
   ]
  },
  {
   "cell_type": "code",
   "execution_count": 7,
   "id": "d44a878a-b236-43f4-b43e-d441b5a9c291",
   "metadata": {},
   "outputs": [],
   "source": [
    "tf.keras.models.save_model(ff_model, \"../models/ff-one-hot.keras\")"
   ]
  },
  {
   "cell_type": "code",
   "execution_count": 8,
   "id": "1ce7be2a-348d-47bf-9fb7-d36a4d8e71d2",
   "metadata": {},
   "outputs": [],
   "source": [
    "import random\n",
    "random.seed(42)\n",
    "\n",
    "test_input = np.array([[random.random() for _ in range(73)]])"
   ]
  },
  {
   "cell_type": "code",
   "execution_count": 9,
   "id": "a38792c9-bc14-445f-9637-7b40008c282e",
   "metadata": {},
   "outputs": [
    {
     "data": {
      "text/plain": [
       "[0.0075528561137616634,\n",
       " 0.010143924504518509,\n",
       " 0.026259252801537514,\n",
       " 0.06125572323799133,\n",
       " 0.035694923251867294,\n",
       " 0.363323450088501,\n",
       " 0.1331682801246643,\n",
       " 0.36258721351623535,\n",
       " 1.4340771485876758e-05]"
      ]
     },
     "execution_count": 9,
     "metadata": {},
     "output_type": "execute_result"
    }
   ],
   "source": [
    "[float(f) for f in ff_model(test_input)[0]]"
   ]
  },
  {
   "cell_type": "code",
   "execution_count": 10,
   "id": "acc55ead-da52-4291-b56e-fa2f6580ebb4",
   "metadata": {},
   "outputs": [
    {
     "name": "stderr",
     "output_type": "stream",
     "text": [
      "I0000 00:00:1731661876.698218  178544 devices.cc:67] Number of eligible GPUs (core count >= 8, compute capability >= 0.0): 0\n",
      "WARNING: All log messages before absl::InitializeLog() is called are written to STDERR\n",
      "I0000 00:00:1731661876.698298  178544 single_machine.cc:361] Starting new session\n",
      "I0000 00:00:1731661876.720339  178544 devices.cc:67] Number of eligible GPUs (core count >= 8, compute capability >= 0.0): 0\n",
      "I0000 00:00:1731661876.720422  178544 single_machine.cc:361] Starting new session\n"
     ]
    }
   ],
   "source": [
    "spec = (tf.TensorSpec((None, X.shape[1]), tf.float32, name=\"input\"),)\n",
    "model_proto, _ = tf2onnx.convert.from_keras(ff_model, input_signature=spec, opset=13, output_path=\"../models/ff-one-hot.onnx\")"
   ]
  },
  {
   "cell_type": "code",
   "execution_count": 11,
   "id": "f9830f42-3807-457d-9c4e-871217e81f87",
   "metadata": {},
   "outputs": [],
   "source": [
    "onnx_session = onnxruntime.InferenceSession(\"../models/ff-one-hot.onnx\")"
   ]
  },
  {
   "cell_type": "code",
   "execution_count": 12,
   "id": "af4e7b7b-ba38-4f8d-8111-e27147ebc110",
   "metadata": {},
   "outputs": [
    {
     "data": {
      "text/plain": [
       "[0.00755285331979394,\n",
       " 0.010143925435841084,\n",
       " 0.026259256526827812,\n",
       " 0.06125573068857193,\n",
       " 0.035694923251867294,\n",
       " 0.363323450088501,\n",
       " 0.1331682801246643,\n",
       " 0.36258718371391296,\n",
       " 1.4340770576382056e-05]"
      ]
     },
     "execution_count": 12,
     "metadata": {},
     "output_type": "execute_result"
    }
   ],
   "source": [
    "[float(f) for f in onnx_session.run([\"output\"], {\"input\": test_input.astype(np.float32)})[0][0]]"
   ]
  }
 ],
 "metadata": {
  "kernelspec": {
   "display_name": "Python 3 (ipykernel)",
   "language": "python",
   "name": "python3"
  },
  "language_info": {
   "codemirror_mode": {
    "name": "ipython",
    "version": 3
   },
   "file_extension": ".py",
   "mimetype": "text/x-python",
   "name": "python",
   "nbconvert_exporter": "python",
   "pygments_lexer": "ipython3",
   "version": "3.12.3"
  }
 },
 "nbformat": 4,
 "nbformat_minor": 5
}
