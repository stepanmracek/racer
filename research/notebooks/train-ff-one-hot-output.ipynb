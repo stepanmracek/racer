{
 "cells": [
  {
   "cell_type": "code",
   "execution_count": 1,
   "id": "bb7712ca-fac2-4e86-b762-13162d227dfa",
   "metadata": {},
   "outputs": [
    {
     "name": "stderr",
     "output_type": "stream",
     "text": [
      "2024-11-13 21:55:06.582790: I external/local_xla/xla/tsl/cuda/cudart_stub.cc:32] Could not find cuda drivers on your machine, GPU will not be used.\n",
      "2024-11-13 21:55:06.585822: I external/local_xla/xla/tsl/cuda/cudart_stub.cc:32] Could not find cuda drivers on your machine, GPU will not be used.\n",
      "2024-11-13 21:55:06.595931: E external/local_xla/xla/stream_executor/cuda/cuda_fft.cc:477] Unable to register cuFFT factory: Attempting to register factory for plugin cuFFT when one has already been registered\n",
      "WARNING: All log messages before absl::InitializeLog() is called are written to STDERR\n",
      "E0000 00:00:1731531306.613897   33910 cuda_dnn.cc:8310] Unable to register cuDNN factory: Attempting to register factory for plugin cuDNN when one has already been registered\n",
      "E0000 00:00:1731531306.618820   33910 cuda_blas.cc:1418] Unable to register cuBLAS factory: Attempting to register factory for plugin cuBLAS when one has already been registered\n",
      "2024-11-13 21:55:06.635679: I tensorflow/core/platform/cpu_feature_guard.cc:210] This TensorFlow binary is optimized to use available CPU instructions in performance-critical operations.\n",
      "To enable the following instructions: AVX2 FMA, in other operations, rebuild TensorFlow with the appropriate compiler flags.\n"
     ]
    }
   ],
   "source": [
    "import pandas as pd\n",
    "import numpy as np\n",
    "import csv\n",
    "import tensorflow as tf\n",
    "from matplotlib import pyplot as plt\n",
    "from collections import Counter\n",
    "from tqdm.auto import tqdm"
   ]
  },
  {
   "cell_type": "code",
   "execution_count": 2,
   "id": "2a34e6f1-4b3c-4f47-8cef-adb57a068158",
   "metadata": {},
   "outputs": [
    {
     "data": {
      "text/html": [
       "<div>\n",
       "<style scoped>\n",
       "    .dataframe tbody tr th:only-of-type {\n",
       "        vertical-align: middle;\n",
       "    }\n",
       "\n",
       "    .dataframe tbody tr th {\n",
       "        vertical-align: top;\n",
       "    }\n",
       "\n",
       "    .dataframe thead th {\n",
       "        text-align: right;\n",
       "    }\n",
       "</style>\n",
       "<table border=\"1\" class=\"dataframe\">\n",
       "  <thead>\n",
       "    <tr style=\"text-align: right;\">\n",
       "      <th></th>\n",
       "      <th>0</th>\n",
       "      <th>1</th>\n",
       "      <th>2</th>\n",
       "      <th>3</th>\n",
       "      <th>4</th>\n",
       "      <th>5</th>\n",
       "      <th>6</th>\n",
       "      <th>7</th>\n",
       "      <th>8</th>\n",
       "      <th>9</th>\n",
       "      <th>...</th>\n",
       "      <th>19</th>\n",
       "      <th>20</th>\n",
       "      <th>21</th>\n",
       "      <th>22</th>\n",
       "      <th>23</th>\n",
       "      <th>24</th>\n",
       "      <th>25</th>\n",
       "      <th>26</th>\n",
       "      <th>27</th>\n",
       "      <th>28</th>\n",
       "    </tr>\n",
       "  </thead>\n",
       "  <tbody>\n",
       "    <tr>\n",
       "      <th>0</th>\n",
       "      <td>0.1</td>\n",
       "      <td>e-399</td>\n",
       "      <td>NaN</td>\n",
       "      <td>w-219</td>\n",
       "      <td>NaN</td>\n",
       "      <td>NaN</td>\n",
       "      <td>w-77</td>\n",
       "      <td>w-71</td>\n",
       "      <td>w-72</td>\n",
       "      <td>w-109</td>\n",
       "      <td>...</td>\n",
       "      <td>w-196</td>\n",
       "      <td>w-185</td>\n",
       "      <td>NaN</td>\n",
       "      <td>NaN</td>\n",
       "      <td>NaN</td>\n",
       "      <td>w-215</td>\n",
       "      <td>1</td>\n",
       "      <td>0</td>\n",
       "      <td>0</td>\n",
       "      <td>0</td>\n",
       "    </tr>\n",
       "    <tr>\n",
       "      <th>1</th>\n",
       "      <td>0.3</td>\n",
       "      <td>e-399</td>\n",
       "      <td>NaN</td>\n",
       "      <td>w-219</td>\n",
       "      <td>NaN</td>\n",
       "      <td>NaN</td>\n",
       "      <td>w-77</td>\n",
       "      <td>w-71</td>\n",
       "      <td>w-72</td>\n",
       "      <td>w-109</td>\n",
       "      <td>...</td>\n",
       "      <td>w-196</td>\n",
       "      <td>w-185</td>\n",
       "      <td>NaN</td>\n",
       "      <td>NaN</td>\n",
       "      <td>NaN</td>\n",
       "      <td>w-215</td>\n",
       "      <td>1</td>\n",
       "      <td>0</td>\n",
       "      <td>0</td>\n",
       "      <td>0</td>\n",
       "    </tr>\n",
       "    <tr>\n",
       "      <th>2</th>\n",
       "      <td>0.6</td>\n",
       "      <td>e-397</td>\n",
       "      <td>NaN</td>\n",
       "      <td>w-215</td>\n",
       "      <td>NaN</td>\n",
       "      <td>NaN</td>\n",
       "      <td>w-77</td>\n",
       "      <td>w-73</td>\n",
       "      <td>w-72</td>\n",
       "      <td>w-109</td>\n",
       "      <td>...</td>\n",
       "      <td>w-197</td>\n",
       "      <td>w-185</td>\n",
       "      <td>NaN</td>\n",
       "      <td>NaN</td>\n",
       "      <td>NaN</td>\n",
       "      <td>w-213</td>\n",
       "      <td>1</td>\n",
       "      <td>0</td>\n",
       "      <td>0</td>\n",
       "      <td>0</td>\n",
       "    </tr>\n",
       "    <tr>\n",
       "      <th>3</th>\n",
       "      <td>0.8</td>\n",
       "      <td>e-396</td>\n",
       "      <td>NaN</td>\n",
       "      <td>w-214</td>\n",
       "      <td>NaN</td>\n",
       "      <td>NaN</td>\n",
       "      <td>w-79</td>\n",
       "      <td>w-72</td>\n",
       "      <td>w-72</td>\n",
       "      <td>w-109</td>\n",
       "      <td>...</td>\n",
       "      <td>w-196</td>\n",
       "      <td>w-185</td>\n",
       "      <td>NaN</td>\n",
       "      <td>NaN</td>\n",
       "      <td>NaN</td>\n",
       "      <td>w-213</td>\n",
       "      <td>1</td>\n",
       "      <td>0</td>\n",
       "      <td>0</td>\n",
       "      <td>0</td>\n",
       "    </tr>\n",
       "    <tr>\n",
       "      <th>4</th>\n",
       "      <td>1.0</td>\n",
       "      <td>e-394</td>\n",
       "      <td>NaN</td>\n",
       "      <td>w-211</td>\n",
       "      <td>NaN</td>\n",
       "      <td>NaN</td>\n",
       "      <td>w-81</td>\n",
       "      <td>w-70</td>\n",
       "      <td>w-72</td>\n",
       "      <td>w-109</td>\n",
       "      <td>...</td>\n",
       "      <td>w-196</td>\n",
       "      <td>w-185</td>\n",
       "      <td>NaN</td>\n",
       "      <td>NaN</td>\n",
       "      <td>NaN</td>\n",
       "      <td>w-211</td>\n",
       "      <td>1</td>\n",
       "      <td>0</td>\n",
       "      <td>0</td>\n",
       "      <td>0</td>\n",
       "    </tr>\n",
       "    <tr>\n",
       "      <th>...</th>\n",
       "      <td>...</td>\n",
       "      <td>...</td>\n",
       "      <td>...</td>\n",
       "      <td>...</td>\n",
       "      <td>...</td>\n",
       "      <td>...</td>\n",
       "      <td>...</td>\n",
       "      <td>...</td>\n",
       "      <td>...</td>\n",
       "      <td>...</td>\n",
       "      <td>...</td>\n",
       "      <td>...</td>\n",
       "      <td>...</td>\n",
       "      <td>...</td>\n",
       "      <td>...</td>\n",
       "      <td>...</td>\n",
       "      <td>...</td>\n",
       "      <td>...</td>\n",
       "      <td>...</td>\n",
       "      <td>...</td>\n",
       "      <td>...</td>\n",
       "    </tr>\n",
       "    <tr>\n",
       "      <th>12163</th>\n",
       "      <td>-4.3</td>\n",
       "      <td>w-185</td>\n",
       "      <td>d-322</td>\n",
       "      <td>w-127</td>\n",
       "      <td>w-130</td>\n",
       "      <td>w-187</td>\n",
       "      <td>NaN</td>\n",
       "      <td>NaN</td>\n",
       "      <td>NaN</td>\n",
       "      <td>e-153</td>\n",
       "      <td>...</td>\n",
       "      <td>w-28</td>\n",
       "      <td>w-30</td>\n",
       "      <td>w-35</td>\n",
       "      <td>w-44</td>\n",
       "      <td>w-43</td>\n",
       "      <td>w-73</td>\n",
       "      <td>0</td>\n",
       "      <td>1</td>\n",
       "      <td>1</td>\n",
       "      <td>0</td>\n",
       "    </tr>\n",
       "    <tr>\n",
       "      <th>12164</th>\n",
       "      <td>-4.4</td>\n",
       "      <td>w-187</td>\n",
       "      <td>d-327</td>\n",
       "      <td>w-133</td>\n",
       "      <td>w-134</td>\n",
       "      <td>w-189</td>\n",
       "      <td>NaN</td>\n",
       "      <td>NaN</td>\n",
       "      <td>NaN</td>\n",
       "      <td>e-150</td>\n",
       "      <td>...</td>\n",
       "      <td>w-28</td>\n",
       "      <td>w-30</td>\n",
       "      <td>w-32</td>\n",
       "      <td>w-41</td>\n",
       "      <td>w-47</td>\n",
       "      <td>w-64</td>\n",
       "      <td>0</td>\n",
       "      <td>1</td>\n",
       "      <td>1</td>\n",
       "      <td>0</td>\n",
       "    </tr>\n",
       "    <tr>\n",
       "      <th>12165</th>\n",
       "      <td>-4.5</td>\n",
       "      <td>w-136</td>\n",
       "      <td>d-331</td>\n",
       "      <td>w-144</td>\n",
       "      <td>w-137</td>\n",
       "      <td>w-191</td>\n",
       "      <td>NaN</td>\n",
       "      <td>NaN</td>\n",
       "      <td>NaN</td>\n",
       "      <td>e-148</td>\n",
       "      <td>...</td>\n",
       "      <td>w-31</td>\n",
       "      <td>w-29</td>\n",
       "      <td>w-33</td>\n",
       "      <td>w-40</td>\n",
       "      <td>w-51</td>\n",
       "      <td>w-56</td>\n",
       "      <td>0</td>\n",
       "      <td>1</td>\n",
       "      <td>1</td>\n",
       "      <td>0</td>\n",
       "    </tr>\n",
       "    <tr>\n",
       "      <th>12166</th>\n",
       "      <td>-4.6</td>\n",
       "      <td>w-96</td>\n",
       "      <td>d-336</td>\n",
       "      <td>w-152</td>\n",
       "      <td>w-137</td>\n",
       "      <td>w-193</td>\n",
       "      <td>NaN</td>\n",
       "      <td>NaN</td>\n",
       "      <td>NaN</td>\n",
       "      <td>e-145</td>\n",
       "      <td>...</td>\n",
       "      <td>w-35</td>\n",
       "      <td>w-32</td>\n",
       "      <td>w-31</td>\n",
       "      <td>w-37</td>\n",
       "      <td>w-53</td>\n",
       "      <td>w-59</td>\n",
       "      <td>0</td>\n",
       "      <td>1</td>\n",
       "      <td>1</td>\n",
       "      <td>0</td>\n",
       "    </tr>\n",
       "    <tr>\n",
       "      <th>12167</th>\n",
       "      <td>-4.7</td>\n",
       "      <td>w-94</td>\n",
       "      <td>d-340</td>\n",
       "      <td>NaN</td>\n",
       "      <td>w-139</td>\n",
       "      <td>w-195</td>\n",
       "      <td>NaN</td>\n",
       "      <td>NaN</td>\n",
       "      <td>NaN</td>\n",
       "      <td>e-143</td>\n",
       "      <td>...</td>\n",
       "      <td>w-35</td>\n",
       "      <td>w-33</td>\n",
       "      <td>w-31</td>\n",
       "      <td>w-38</td>\n",
       "      <td>w-50</td>\n",
       "      <td>w-59</td>\n",
       "      <td>0</td>\n",
       "      <td>1</td>\n",
       "      <td>1</td>\n",
       "      <td>0</td>\n",
       "    </tr>\n",
       "  </tbody>\n",
       "</table>\n",
       "<p>12168 rows × 29 columns</p>\n",
       "</div>"
      ],
      "text/plain": [
       "        0      1      2      3      4      5     6     7     8      9   ...  \\\n",
       "0      0.1  e-399    NaN  w-219    NaN    NaN  w-77  w-71  w-72  w-109  ...   \n",
       "1      0.3  e-399    NaN  w-219    NaN    NaN  w-77  w-71  w-72  w-109  ...   \n",
       "2      0.6  e-397    NaN  w-215    NaN    NaN  w-77  w-73  w-72  w-109  ...   \n",
       "3      0.8  e-396    NaN  w-214    NaN    NaN  w-79  w-72  w-72  w-109  ...   \n",
       "4      1.0  e-394    NaN  w-211    NaN    NaN  w-81  w-70  w-72  w-109  ...   \n",
       "...    ...    ...    ...    ...    ...    ...   ...   ...   ...    ...  ...   \n",
       "12163 -4.3  w-185  d-322  w-127  w-130  w-187   NaN   NaN   NaN  e-153  ...   \n",
       "12164 -4.4  w-187  d-327  w-133  w-134  w-189   NaN   NaN   NaN  e-150  ...   \n",
       "12165 -4.5  w-136  d-331  w-144  w-137  w-191   NaN   NaN   NaN  e-148  ...   \n",
       "12166 -4.6   w-96  d-336  w-152  w-137  w-193   NaN   NaN   NaN  e-145  ...   \n",
       "12167 -4.7   w-94  d-340    NaN  w-139  w-195   NaN   NaN   NaN  e-143  ...   \n",
       "\n",
       "          19     20    21    22    23     24 25 26 27 28  \n",
       "0      w-196  w-185   NaN   NaN   NaN  w-215  1  0  0  0  \n",
       "1      w-196  w-185   NaN   NaN   NaN  w-215  1  0  0  0  \n",
       "2      w-197  w-185   NaN   NaN   NaN  w-213  1  0  0  0  \n",
       "3      w-196  w-185   NaN   NaN   NaN  w-213  1  0  0  0  \n",
       "4      w-196  w-185   NaN   NaN   NaN  w-211  1  0  0  0  \n",
       "...      ...    ...   ...   ...   ...    ... .. .. .. ..  \n",
       "12163   w-28   w-30  w-35  w-44  w-43   w-73  0  1  1  0  \n",
       "12164   w-28   w-30  w-32  w-41  w-47   w-64  0  1  1  0  \n",
       "12165   w-31   w-29  w-33  w-40  w-51   w-56  0  1  1  0  \n",
       "12166   w-35   w-32  w-31  w-37  w-53   w-59  0  1  1  0  \n",
       "12167   w-35   w-33  w-31  w-38  w-50   w-59  0  1  1  0  \n",
       "\n",
       "[12168 rows x 29 columns]"
      ]
     },
     "metadata": {},
     "output_type": "display_data"
    }
   ],
   "source": [
    "data = pd.read_csv(\"train.csv\", header=None)\n",
    "display(data)"
   ]
  },
  {
   "cell_type": "code",
   "execution_count": 4,
   "id": "2f9e60f7-89c1-4a18-876c-fcdd2dbfb7ab",
   "metadata": {},
   "outputs": [
    {
     "data": {
      "application/vnd.jupyter.widget-view+json": {
       "model_id": "dbde7e20015b476eb7930936af11121b",
       "version_major": 2,
       "version_minor": 0
      },
      "text/plain": [
       "0it [00:00, ?it/s]"
      ]
     },
     "metadata": {},
     "output_type": "display_data"
    },
    {
     "data": {
      "text/plain": [
       "((12168, 73), (12168, 9))"
      ]
     },
     "execution_count": 4,
     "metadata": {},
     "output_type": "execute_result"
    }
   ],
   "source": [
    "def parse_sensor(s, letters, max_val=501.0):\n",
    "    if not s:\n",
    "        return 1.0\n",
    "    if s[0] not in letters:\n",
    "        return 1.0\n",
    "    return float(s[2:])/max_val\n",
    "\n",
    "def parse_keys(keys):\n",
    "    \"\"\"\n",
    "    up,down,left,right flags to one-hot encoded representation\n",
    "    (up+left)   -> 0 (up)      -> 1 (up+right)   -> 2\n",
    "    (left)      -> 3 (nothing) -> 4 (right)      -> 5\n",
    "    (down+left) -> 6 (down)    -> 7 (down+right) -> 8\n",
    "    \"\"\"\n",
    "    if np.array_equal(keys, [1,0,1,0]):\n",
    "        return np.array([1.0,0.0,0.0, 0.0,0.0,0.0, 0.0,0.0,0.0])\n",
    "    if np.array_equal(keys, [1,0,0,0]):\n",
    "        return np.array([0.0,1.0,0.0, 0.0,0.0,0.0, 0.0,0.0,0.0])\n",
    "    if np.array_equal(keys, [1,0,0,1]):\n",
    "        return np.array([0.0,0.0,1.0, 0.0,0.0,0.0, 0.0,0.0,0.0])\n",
    "    \n",
    "    if np.array_equal(keys, [0,0,1,0]):\n",
    "        return np.array([0.0,0.0,0.0, 1.0,0.0,0.0, 0.0,0.0,0.0])\n",
    "    if np.array_equal(keys, [0,0,0,0]) or np.array_equal(keys, [0,0,1,1]):\n",
    "        return np.array([0.0,0.0,0.0, 0.0,1.0,0.0, 0.0,0.0,0.0])\n",
    "    if np.array_equal(keys, [0,0,0,1]):\n",
    "        return np.array([0.0,0.0,0.0, 0.0,0.0,1.0, 0.0,0.0,0.0])\n",
    "\n",
    "    if np.array_equal(keys, [0,1,1,0]):\n",
    "        return np.array([0.0,0.0,0.0, 0.0,0.0,0.0, 1.0,0.0,0.0])\n",
    "    if np.array_equal(keys, [0,1,0,0]):\n",
    "        return np.array([0.0,0.0,0.0, 0.0,0.0,0.0, 0.0,1.0,0.0])\n",
    "    if np.array_equal(keys, [0,1,0,1]):\n",
    "        return np.array([0.0,0.0,0.0, 0.0,0.0,0.0, 0.0,1.0,0.0])\n",
    "\n",
    "    raise ValueError(f\"Unknown key combination: {keys}\")\n",
    "    \n",
    "\n",
    "X = []\n",
    "Y = []\n",
    "with open(\"train.csv\") as f:\n",
    "    for row in tqdm(csv.reader(f)):\n",
    "        velocity = np.array([float(row[0])])\n",
    "        sensors = row[1:25]\n",
    "        keys = np.fromiter((float(k) for k in row[25:]), dtype=float)\n",
    "        keys = parse_keys(keys)\n",
    "        walls = np.fromiter((parse_sensor(s, (\"w\",)) for s in sensors), dtype=float)\n",
    "        enemy = np.fromiter((parse_sensor(s, (\"e\",)) for s in sensors), dtype=float)\n",
    "        diamonds = np.fromiter((parse_sensor(s, (\"d\",)) for s in sensors), dtype=float)\n",
    "        X.append(np.concatenate((velocity, walls, enemy, diamonds)))\n",
    "        Y.append(keys)\n",
    "\n",
    "X = np.array(X)\n",
    "Y = np.array(Y)\n",
    "X.shape, Y.shape"
   ]
  },
  {
   "cell_type": "code",
   "execution_count": 5,
   "id": "5bae7924-8970-424b-bae2-a23cf39b3c3c",
   "metadata": {},
   "outputs": [
    {
     "name": "stderr",
     "output_type": "stream",
     "text": [
      "2024-11-13 21:55:21.513454: E external/local_xla/xla/stream_executor/cuda/cuda_driver.cc:152] failed call to cuInit: INTERNAL: CUDA error: Failed call to cuInit: UNKNOWN ERROR (303)\n"
     ]
    }
   ],
   "source": [
    "def create_ff_model():\n",
    "    input = tf.keras.Input(shape=(X.shape[1],), name=\"input\")\n",
    "    hidden = tf.keras.layers.Dense(64, activation=\"tanh\", name=\"hidden1\")(input)\n",
    "    output = tf.keras.layers.Dense(Y.shape[1], activation='softmax', name='output')(hidden)\n",
    "\n",
    "    model = tf.keras.Model(name=\"ff_model\", inputs=input, outputs=output)\n",
    "    model.compile(optimizer='adam', loss=\"categorical_crossentropy\")\n",
    "    return model\n",
    "\n",
    "ff_model = create_ff_model()"
   ]
  },
  {
   "cell_type": "code",
   "execution_count": 6,
   "id": "c02547e4-fe45-41c6-acc5-e78b2d9c7861",
   "metadata": {},
   "outputs": [
    {
     "data": {
      "text/html": [
       "<pre style=\"white-space:pre;overflow-x:auto;line-height:normal;font-family:Menlo,'DejaVu Sans Mono',consolas,'Courier New',monospace\"><span style=\"font-weight: bold\">Model: \"ff_model\"</span>\n",
       "</pre>\n"
      ],
      "text/plain": [
       "\u001b[1mModel: \"ff_model\"\u001b[0m\n"
      ]
     },
     "metadata": {},
     "output_type": "display_data"
    },
    {
     "data": {
      "text/html": [
       "<pre style=\"white-space:pre;overflow-x:auto;line-height:normal;font-family:Menlo,'DejaVu Sans Mono',consolas,'Courier New',monospace\">┏━━━━━━━━━━━━━━━━━━━━━━━━━━━━━━━━━┳━━━━━━━━━━━━━━━━━━━━━━━━┳━━━━━━━━━━━━━━━┓\n",
       "┃<span style=\"font-weight: bold\"> Layer (type)                    </span>┃<span style=\"font-weight: bold\"> Output Shape           </span>┃<span style=\"font-weight: bold\">       Param # </span>┃\n",
       "┡━━━━━━━━━━━━━━━━━━━━━━━━━━━━━━━━━╇━━━━━━━━━━━━━━━━━━━━━━━━╇━━━━━━━━━━━━━━━┩\n",
       "│ input (<span style=\"color: #0087ff; text-decoration-color: #0087ff\">InputLayer</span>)              │ (<span style=\"color: #00d7ff; text-decoration-color: #00d7ff\">None</span>, <span style=\"color: #00af00; text-decoration-color: #00af00\">73</span>)             │             <span style=\"color: #00af00; text-decoration-color: #00af00\">0</span> │\n",
       "├─────────────────────────────────┼────────────────────────┼───────────────┤\n",
       "│ hidden1 (<span style=\"color: #0087ff; text-decoration-color: #0087ff\">Dense</span>)                 │ (<span style=\"color: #00d7ff; text-decoration-color: #00d7ff\">None</span>, <span style=\"color: #00af00; text-decoration-color: #00af00\">64</span>)             │         <span style=\"color: #00af00; text-decoration-color: #00af00\">4,736</span> │\n",
       "├─────────────────────────────────┼────────────────────────┼───────────────┤\n",
       "│ output (<span style=\"color: #0087ff; text-decoration-color: #0087ff\">Dense</span>)                  │ (<span style=\"color: #00d7ff; text-decoration-color: #00d7ff\">None</span>, <span style=\"color: #00af00; text-decoration-color: #00af00\">9</span>)              │           <span style=\"color: #00af00; text-decoration-color: #00af00\">585</span> │\n",
       "└─────────────────────────────────┴────────────────────────┴───────────────┘\n",
       "</pre>\n"
      ],
      "text/plain": [
       "┏━━━━━━━━━━━━━━━━━━━━━━━━━━━━━━━━━┳━━━━━━━━━━━━━━━━━━━━━━━━┳━━━━━━━━━━━━━━━┓\n",
       "┃\u001b[1m \u001b[0m\u001b[1mLayer (type)                   \u001b[0m\u001b[1m \u001b[0m┃\u001b[1m \u001b[0m\u001b[1mOutput Shape          \u001b[0m\u001b[1m \u001b[0m┃\u001b[1m \u001b[0m\u001b[1m      Param #\u001b[0m\u001b[1m \u001b[0m┃\n",
       "┡━━━━━━━━━━━━━━━━━━━━━━━━━━━━━━━━━╇━━━━━━━━━━━━━━━━━━━━━━━━╇━━━━━━━━━━━━━━━┩\n",
       "│ input (\u001b[38;5;33mInputLayer\u001b[0m)              │ (\u001b[38;5;45mNone\u001b[0m, \u001b[38;5;34m73\u001b[0m)             │             \u001b[38;5;34m0\u001b[0m │\n",
       "├─────────────────────────────────┼────────────────────────┼───────────────┤\n",
       "│ hidden1 (\u001b[38;5;33mDense\u001b[0m)                 │ (\u001b[38;5;45mNone\u001b[0m, \u001b[38;5;34m64\u001b[0m)             │         \u001b[38;5;34m4,736\u001b[0m │\n",
       "├─────────────────────────────────┼────────────────────────┼───────────────┤\n",
       "│ output (\u001b[38;5;33mDense\u001b[0m)                  │ (\u001b[38;5;45mNone\u001b[0m, \u001b[38;5;34m9\u001b[0m)              │           \u001b[38;5;34m585\u001b[0m │\n",
       "└─────────────────────────────────┴────────────────────────┴───────────────┘\n"
      ]
     },
     "metadata": {},
     "output_type": "display_data"
    },
    {
     "data": {
      "text/html": [
       "<pre style=\"white-space:pre;overflow-x:auto;line-height:normal;font-family:Menlo,'DejaVu Sans Mono',consolas,'Courier New',monospace\"><span style=\"font-weight: bold\"> Total params: </span><span style=\"color: #00af00; text-decoration-color: #00af00\">5,321</span> (20.79 KB)\n",
       "</pre>\n"
      ],
      "text/plain": [
       "\u001b[1m Total params: \u001b[0m\u001b[38;5;34m5,321\u001b[0m (20.79 KB)\n"
      ]
     },
     "metadata": {},
     "output_type": "display_data"
    },
    {
     "data": {
      "text/html": [
       "<pre style=\"white-space:pre;overflow-x:auto;line-height:normal;font-family:Menlo,'DejaVu Sans Mono',consolas,'Courier New',monospace\"><span style=\"font-weight: bold\"> Trainable params: </span><span style=\"color: #00af00; text-decoration-color: #00af00\">5,321</span> (20.79 KB)\n",
       "</pre>\n"
      ],
      "text/plain": [
       "\u001b[1m Trainable params: \u001b[0m\u001b[38;5;34m5,321\u001b[0m (20.79 KB)\n"
      ]
     },
     "metadata": {},
     "output_type": "display_data"
    },
    {
     "data": {
      "text/html": [
       "<pre style=\"white-space:pre;overflow-x:auto;line-height:normal;font-family:Menlo,'DejaVu Sans Mono',consolas,'Courier New',monospace\"><span style=\"font-weight: bold\"> Non-trainable params: </span><span style=\"color: #00af00; text-decoration-color: #00af00\">0</span> (0.00 B)\n",
       "</pre>\n"
      ],
      "text/plain": [
       "\u001b[1m Non-trainable params: \u001b[0m\u001b[38;5;34m0\u001b[0m (0.00 B)\n"
      ]
     },
     "metadata": {},
     "output_type": "display_data"
    }
   ],
   "source": [
    "ff_model.summary()"
   ]
  },
  {
   "cell_type": "code",
   "execution_count": 8,
   "id": "1db0e7d3-c083-4fe9-bc5a-d87be139f02b",
   "metadata": {},
   "outputs": [
    {
     "name": "stdout",
     "output_type": "stream",
     "text": [
      "Epoch 1/20\n",
      "\u001b[1m305/305\u001b[0m \u001b[32m━━━━━━━━━━━━━━━━━━━━\u001b[0m\u001b[37m\u001b[0m \u001b[1m0s\u001b[0m 1ms/step - loss: 0.8270 - val_loss: 1.9112\n",
      "Epoch 2/20\n",
      "\u001b[1m305/305\u001b[0m \u001b[32m━━━━━━━━━━━━━━━━━━━━\u001b[0m\u001b[37m\u001b[0m \u001b[1m0s\u001b[0m 937us/step - loss: 0.8118 - val_loss: 1.9454\n",
      "Epoch 3/20\n",
      "\u001b[1m305/305\u001b[0m \u001b[32m━━━━━━━━━━━━━━━━━━━━\u001b[0m\u001b[37m\u001b[0m \u001b[1m0s\u001b[0m 959us/step - loss: 0.8336 - val_loss: 1.8888\n",
      "Epoch 4/20\n",
      "\u001b[1m305/305\u001b[0m \u001b[32m━━━━━━━━━━━━━━━━━━━━\u001b[0m\u001b[37m\u001b[0m \u001b[1m0s\u001b[0m 915us/step - loss: 0.8138 - val_loss: 1.9224\n",
      "Epoch 5/20\n",
      "\u001b[1m305/305\u001b[0m \u001b[32m━━━━━━━━━━━━━━━━━━━━\u001b[0m\u001b[37m\u001b[0m \u001b[1m0s\u001b[0m 877us/step - loss: 0.7985 - val_loss: 1.9733\n",
      "Epoch 6/20\n",
      "\u001b[1m305/305\u001b[0m \u001b[32m━━━━━━━━━━━━━━━━━━━━\u001b[0m\u001b[37m\u001b[0m \u001b[1m0s\u001b[0m 832us/step - loss: 0.8007 - val_loss: 1.9215\n",
      "Epoch 7/20\n",
      "\u001b[1m305/305\u001b[0m \u001b[32m━━━━━━━━━━━━━━━━━━━━\u001b[0m\u001b[37m\u001b[0m \u001b[1m0s\u001b[0m 854us/step - loss: 0.7997 - val_loss: 1.8911\n",
      "Epoch 8/20\n",
      "\u001b[1m305/305\u001b[0m \u001b[32m━━━━━━━━━━━━━━━━━━━━\u001b[0m\u001b[37m\u001b[0m \u001b[1m0s\u001b[0m 868us/step - loss: 0.7997 - val_loss: 1.8841\n",
      "Epoch 9/20\n",
      "\u001b[1m305/305\u001b[0m \u001b[32m━━━━━━━━━━━━━━━━━━━━\u001b[0m\u001b[37m\u001b[0m \u001b[1m0s\u001b[0m 877us/step - loss: 0.7993 - val_loss: 1.9578\n",
      "Epoch 10/20\n",
      "\u001b[1m305/305\u001b[0m \u001b[32m━━━━━━━━━━━━━━━━━━━━\u001b[0m\u001b[37m\u001b[0m \u001b[1m0s\u001b[0m 856us/step - loss: 0.7968 - val_loss: 1.9393\n",
      "Epoch 11/20\n",
      "\u001b[1m305/305\u001b[0m \u001b[32m━━━━━━━━━━━━━━━━━━━━\u001b[0m\u001b[37m\u001b[0m \u001b[1m0s\u001b[0m 839us/step - loss: 0.7997 - val_loss: 1.9785\n",
      "Epoch 12/20\n",
      "\u001b[1m305/305\u001b[0m \u001b[32m━━━━━━━━━━━━━━━━━━━━\u001b[0m\u001b[37m\u001b[0m \u001b[1m0s\u001b[0m 857us/step - loss: 0.7862 - val_loss: 1.9148\n",
      "Epoch 13/20\n",
      "\u001b[1m305/305\u001b[0m \u001b[32m━━━━━━━━━━━━━━━━━━━━\u001b[0m\u001b[37m\u001b[0m \u001b[1m0s\u001b[0m 842us/step - loss: 0.8038 - val_loss: 1.9786\n",
      "Epoch 14/20\n",
      "\u001b[1m305/305\u001b[0m \u001b[32m━━━━━━━━━━━━━━━━━━━━\u001b[0m\u001b[37m\u001b[0m \u001b[1m0s\u001b[0m 839us/step - loss: 0.7829 - val_loss: 1.9085\n",
      "Epoch 15/20\n",
      "\u001b[1m305/305\u001b[0m \u001b[32m━━━━━━━━━━━━━━━━━━━━\u001b[0m\u001b[37m\u001b[0m \u001b[1m0s\u001b[0m 841us/step - loss: 0.7664 - val_loss: 2.0077\n",
      "Epoch 16/20\n",
      "\u001b[1m305/305\u001b[0m \u001b[32m━━━━━━━━━━━━━━━━━━━━\u001b[0m\u001b[37m\u001b[0m \u001b[1m0s\u001b[0m 905us/step - loss: 0.7621 - val_loss: 2.0127\n",
      "Epoch 17/20\n",
      "\u001b[1m305/305\u001b[0m \u001b[32m━━━━━━━━━━━━━━━━━━━━\u001b[0m\u001b[37m\u001b[0m \u001b[1m0s\u001b[0m 846us/step - loss: 0.7954 - val_loss: 1.9692\n",
      "Epoch 18/20\n",
      "\u001b[1m305/305\u001b[0m \u001b[32m━━━━━━━━━━━━━━━━━━━━\u001b[0m\u001b[37m\u001b[0m \u001b[1m0s\u001b[0m 840us/step - loss: 0.7621 - val_loss: 2.0400\n",
      "Epoch 19/20\n",
      "\u001b[1m305/305\u001b[0m \u001b[32m━━━━━━━━━━━━━━━━━━━━\u001b[0m\u001b[37m\u001b[0m \u001b[1m0s\u001b[0m 871us/step - loss: 0.7825 - val_loss: 2.0016\n",
      "Epoch 20/20\n",
      "\u001b[1m305/305\u001b[0m \u001b[32m━━━━━━━━━━━━━━━━━━━━\u001b[0m\u001b[37m\u001b[0m \u001b[1m0s\u001b[0m 836us/step - loss: 0.7798 - val_loss: 2.0472\n"
     ]
    },
    {
     "data": {
      "text/plain": [
       "<keras.src.callbacks.history.History at 0x7596836d7510>"
      ]
     },
     "execution_count": 8,
     "metadata": {},
     "output_type": "execute_result"
    }
   ],
   "source": [
    "ff_model.fit(X, Y, epochs=20, validation_split=0.2)"
   ]
  },
  {
   "cell_type": "code",
   "execution_count": 9,
   "id": "d44a878a-b236-43f4-b43e-d441b5a9c291",
   "metadata": {},
   "outputs": [
    {
     "name": "stdout",
     "output_type": "stream",
     "text": [
      "INFO:tensorflow:Assets written to: ../models/ff-one-hot/assets\n"
     ]
    },
    {
     "name": "stderr",
     "output_type": "stream",
     "text": [
      "INFO:tensorflow:Assets written to: ../models/ff-one-hot/assets\n"
     ]
    },
    {
     "name": "stdout",
     "output_type": "stream",
     "text": [
      "Saved artifact at '../models/ff-one-hot'. The following endpoints are available:\n",
      "\n",
      "* Endpoint 'serve'\n",
      "  args_0 (POSITIONAL_ONLY): TensorSpec(shape=(None, 73), dtype=tf.float32, name='input')\n",
      "Output Type:\n",
      "  TensorSpec(shape=(None, 9), dtype=tf.float32, name=None)\n",
      "Captures:\n",
      "  129289310730000: TensorSpec(shape=(), dtype=tf.resource, name=None)\n",
      "  129289310727312: TensorSpec(shape=(), dtype=tf.resource, name=None)\n",
      "  129289310731536: TensorSpec(shape=(), dtype=tf.resource, name=None)\n",
      "  129289310731920: TensorSpec(shape=(), dtype=tf.resource, name=None)\n"
     ]
    }
   ],
   "source": [
    "ff_model.export(\"../models/ff-one-hot\")"
   ]
  },
  {
   "cell_type": "code",
   "execution_count": 10,
   "id": "1ce7be2a-348d-47bf-9fb7-d36a4d8e71d2",
   "metadata": {},
   "outputs": [],
   "source": [
    "import random\n",
    "random.seed(42)\n",
    "\n",
    "test_input = np.array([[random.random() for _ in range(73)]])"
   ]
  },
  {
   "cell_type": "code",
   "execution_count": 11,
   "id": "a38792c9-bc14-445f-9637-7b40008c282e",
   "metadata": {},
   "outputs": [
    {
     "data": {
      "text/plain": [
       "[1.1869574336742517e-05,\n",
       " 1.0080448191729374e-05,\n",
       " 0.0013925260864198208,\n",
       " 0.0025202177930623293,\n",
       " 0.004392880480736494,\n",
       " 0.37408646941185,\n",
       " 0.06280802935361862,\n",
       " 0.5547780394554138,\n",
       " 1.286232786945618e-10]"
      ]
     },
     "execution_count": 11,
     "metadata": {},
     "output_type": "execute_result"
    }
   ],
   "source": [
    "[float(f) for f in ff_model(test_input)[0]]"
   ]
  },
  {
   "cell_type": "code",
   "execution_count": 12,
   "id": "b14d7c9e-8f0a-4b59-8cb0-d9e2a9ea7a82",
   "metadata": {},
   "outputs": [
    {
     "name": "stdout",
     "output_type": "stream",
     "text": [
      "2024-11-13 21:56:30.605497: I external/local_xla/xla/tsl/cuda/cudart_stub.cc:32] Could not find cuda drivers on your machine, GPU will not be used.\n",
      "2024-11-13 21:56:30.608359: I external/local_xla/xla/tsl/cuda/cudart_stub.cc:32] Could not find cuda drivers on your machine, GPU will not be used.\n",
      "2024-11-13 21:56:30.617757: E external/local_xla/xla/stream_executor/cuda/cuda_fft.cc:477] Unable to register cuFFT factory: Attempting to register factory for plugin cuFFT when one has already been registered\n",
      "WARNING: All log messages before absl::InitializeLog() is called are written to STDERR\n",
      "E0000 00:00:1731531390.633884   37317 cuda_dnn.cc:8310] Unable to register cuDNN factory: Attempting to register factory for plugin cuDNN when one has already been registered\n",
      "E0000 00:00:1731531390.638666   37317 cuda_blas.cc:1418] Unable to register cuBLAS factory: Attempting to register factory for plugin cuBLAS when one has already been registered\n",
      "2024-11-13 21:56:30.653822: I tensorflow/core/platform/cpu_feature_guard.cc:210] This TensorFlow binary is optimized to use available CPU instructions in performance-critical operations.\n",
      "To enable the following instructions: AVX2 FMA, in other operations, rebuild TensorFlow with the appropriate compiler flags.\n",
      "<frozen runpy>:128: RuntimeWarning: 'tf2onnx.convert' found in sys.modules after import of package 'tf2onnx', but prior to execution of 'tf2onnx.convert'; this may result in unpredictable behaviour\n",
      "2024-11-13 21:56:33,234 - WARNING - ***IMPORTANT*** Installed protobuf is not cpp accelerated. Conversion will be extremely slow. See https://github.com/onnx/tensorflow-onnx/issues/1557\n",
      "2024-11-13 21:56:33.235038: E external/local_xla/xla/stream_executor/cuda/cuda_driver.cc:152] failed call to cuInit: INTERNAL: CUDA error: Failed call to cuInit: UNKNOWN ERROR (303)\n",
      "2024-11-13 21:56:33,236 - WARNING - '--tag' not specified for saved_model. Using --tag serve\n",
      "2024-11-13 21:56:33,355 - INFO - Signatures found in model: [serve,serving_default].\n",
      "2024-11-13 21:56:33,355 - WARNING - '--signature_def' not specified, using first signature: serve\n",
      "2024-11-13 21:56:33,355 - INFO - Output names: ['output_0']\n",
      "I0000 00:00:1731531393.362960   37317 devices.cc:67] Number of eligible GPUs (core count >= 8, compute capability >= 0.0): 0\n",
      "WARNING: All log messages before absl::InitializeLog() is called are written to STDERR\n",
      "I0000 00:00:1731531393.363129   37317 single_machine.cc:361] Starting new session\n",
      "I0000 00:00:1731531393.427586   37317 devices.cc:67] Number of eligible GPUs (core count >= 8, compute capability >= 0.0): 0\n",
      "I0000 00:00:1731531393.427687   37317 single_machine.cc:361] Starting new session\n",
      "2024-11-13 21:56:33,435 - INFO - Using tensorflow=2.18.0, onnx=1.16.1, tf2onnx=1.16.1/15c810\n",
      "2024-11-13 21:56:33,435 - INFO - Using opset <onnx, 13>\n",
      "2024-11-13 21:56:33,440 - INFO - Computed 0 values for constant folding\n",
      "2024-11-13 21:56:33,449 - INFO - Optimizing ONNX model\n",
      "2024-11-13 21:56:33,476 - INFO - After optimization: Identity -2 (2->0)\n",
      "2024-11-13 21:56:33,478 - INFO - \n",
      "2024-11-13 21:56:33,478 - INFO - Successfully converted TensorFlow model ../models/ff-one-hot to ONNX\n",
      "2024-11-13 21:56:33,478 - INFO - Model inputs: ['input']\n",
      "2024-11-13 21:56:33,478 - INFO - Model outputs: ['output_0']\n",
      "2024-11-13 21:56:33,478 - INFO - ONNX model is saved at ../models/ff-one-hot.onnx\n"
     ]
    }
   ],
   "source": [
    "!python -m tf2onnx.convert --saved-model ../models/ff-one-hot --output ../models/ff-one-hot.onnx --opset 13"
   ]
  },
  {
   "cell_type": "code",
   "execution_count": 13,
   "id": "5846b97f-b0bc-407d-af9a-bb976afc7970",
   "metadata": {},
   "outputs": [],
   "source": [
    "import onnxruntime"
   ]
  },
  {
   "cell_type": "code",
   "execution_count": 14,
   "id": "f9830f42-3807-457d-9c4e-871217e81f87",
   "metadata": {},
   "outputs": [],
   "source": [
    "onnx_session = onnxruntime.InferenceSession(\"../models/ff-one-hot.onnx\")"
   ]
  },
  {
   "cell_type": "code",
   "execution_count": 17,
   "id": "af4e7b7b-ba38-4f8d-8111-e27147ebc110",
   "metadata": {},
   "outputs": [
    {
     "data": {
      "text/plain": [
       "[1.186958616017364e-05,\n",
       " 1.0080449101224076e-05,\n",
       " 0.0013925262028351426,\n",
       " 0.002520219422876835,\n",
       " 0.004392880946397781,\n",
       " 0.3740863502025604,\n",
       " 0.06280800700187683,\n",
       " 0.5547780990600586,\n",
       " 1.286232925723496e-10]"
      ]
     },
     "execution_count": 17,
     "metadata": {},
     "output_type": "execute_result"
    }
   ],
   "source": [
    "[float(f) for f in onnx_session.run([\"output_0\"], {\"input\": test_input.astype(np.float32)})[0][0]]"
   ]
  }
 ],
 "metadata": {
  "kernelspec": {
   "display_name": "Python 3 (ipykernel)",
   "language": "python",
   "name": "python3"
  },
  "language_info": {
   "codemirror_mode": {
    "name": "ipython",
    "version": 3
   },
   "file_extension": ".py",
   "mimetype": "text/x-python",
   "name": "python",
   "nbconvert_exporter": "python",
   "pygments_lexer": "ipython3",
   "version": "3.11.1"
  }
 },
 "nbformat": 4,
 "nbformat_minor": 5
}
